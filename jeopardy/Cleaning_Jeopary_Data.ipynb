{
 "cells": [
  {
   "cell_type": "markdown",
   "metadata": {},
   "source": [
    "# Jeopardy! \n",
    "I'll use Tableau to create a visualization of over 20,000 Jeopardy questions. But first, I'll need to clean the data and assign coordinate for the final shape."
   ]
  },
  {
   "cell_type": "code",
   "execution_count": 1,
   "metadata": {},
   "outputs": [],
   "source": [
    "import pandas as pd\n",
    "import numpy as np"
   ]
  },
  {
   "cell_type": "markdown",
   "metadata": {},
   "source": [
    "This dataset is from Kaggle's [350,000 Jeopardy Questions set](https://www.kaggle.com/prondeau/350000-jeopardy-questions?select=master_season1-35.tsv)."
   ]
  },
  {
   "cell_type": "code",
   "execution_count": 2,
   "metadata": {},
   "outputs": [],
   "source": [
    "jeo = pd.read_csv('./data/master_season1-35.tsv', sep='\\t')"
   ]
  },
  {
   "cell_type": "code",
   "execution_count": 3,
   "metadata": {},
   "outputs": [
    {
     "data": {
      "text/html": [
       "<div>\n",
       "<style scoped>\n",
       "    .dataframe tbody tr th:only-of-type {\n",
       "        vertical-align: middle;\n",
       "    }\n",
       "\n",
       "    .dataframe tbody tr th {\n",
       "        vertical-align: top;\n",
       "    }\n",
       "\n",
       "    .dataframe thead th {\n",
       "        text-align: right;\n",
       "    }\n",
       "</style>\n",
       "<table border=\"1\" class=\"dataframe\">\n",
       "  <thead>\n",
       "    <tr style=\"text-align: right;\">\n",
       "      <th></th>\n",
       "      <th>round</th>\n",
       "      <th>value</th>\n",
       "      <th>daily_double</th>\n",
       "      <th>category</th>\n",
       "      <th>comments</th>\n",
       "      <th>answer</th>\n",
       "      <th>question</th>\n",
       "      <th>air_date</th>\n",
       "      <th>notes</th>\n",
       "    </tr>\n",
       "  </thead>\n",
       "  <tbody>\n",
       "    <tr>\n",
       "      <th>0</th>\n",
       "      <td>1</td>\n",
       "      <td>100</td>\n",
       "      <td>no</td>\n",
       "      <td>LAKES &amp; RIVERS</td>\n",
       "      <td>-</td>\n",
       "      <td>River mentioned most often in the Bible</td>\n",
       "      <td>the Jordan</td>\n",
       "      <td>1984-09-10</td>\n",
       "      <td>-</td>\n",
       "    </tr>\n",
       "    <tr>\n",
       "      <th>1</th>\n",
       "      <td>1</td>\n",
       "      <td>200</td>\n",
       "      <td>no</td>\n",
       "      <td>LAKES &amp; RIVERS</td>\n",
       "      <td>-</td>\n",
       "      <td>Scottish word for lake</td>\n",
       "      <td>loch</td>\n",
       "      <td>1984-09-10</td>\n",
       "      <td>-</td>\n",
       "    </tr>\n",
       "    <tr>\n",
       "      <th>2</th>\n",
       "      <td>1</td>\n",
       "      <td>400</td>\n",
       "      <td>no</td>\n",
       "      <td>LAKES &amp; RIVERS</td>\n",
       "      <td>-</td>\n",
       "      <td>American river only 33 miles shorter than the ...</td>\n",
       "      <td>the Missouri</td>\n",
       "      <td>1984-09-10</td>\n",
       "      <td>-</td>\n",
       "    </tr>\n",
       "    <tr>\n",
       "      <th>3</th>\n",
       "      <td>1</td>\n",
       "      <td>500</td>\n",
       "      <td>no</td>\n",
       "      <td>LAKES &amp; RIVERS</td>\n",
       "      <td>-</td>\n",
       "      <td>World's largest lake, nearly 5 times as big as...</td>\n",
       "      <td>the Caspian Sea</td>\n",
       "      <td>1984-09-10</td>\n",
       "      <td>-</td>\n",
       "    </tr>\n",
       "    <tr>\n",
       "      <th>4</th>\n",
       "      <td>1</td>\n",
       "      <td>100</td>\n",
       "      <td>no</td>\n",
       "      <td>INVENTIONS</td>\n",
       "      <td>-</td>\n",
       "      <td>Marconi's wonderful wireless</td>\n",
       "      <td>the radio</td>\n",
       "      <td>1984-09-10</td>\n",
       "      <td>-</td>\n",
       "    </tr>\n",
       "  </tbody>\n",
       "</table>\n",
       "</div>"
      ],
      "text/plain": [
       "   round  value daily_double        category comments  \\\n",
       "0      1    100           no  LAKES & RIVERS        -   \n",
       "1      1    200           no  LAKES & RIVERS        -   \n",
       "2      1    400           no  LAKES & RIVERS        -   \n",
       "3      1    500           no  LAKES & RIVERS        -   \n",
       "4      1    100           no      INVENTIONS        -   \n",
       "\n",
       "                                              answer         question  \\\n",
       "0            River mentioned most often in the Bible       the Jordan   \n",
       "1                             Scottish word for lake             loch   \n",
       "2  American river only 33 miles shorter than the ...     the Missouri   \n",
       "3  World's largest lake, nearly 5 times as big as...  the Caspian Sea   \n",
       "4                       Marconi's wonderful wireless        the radio   \n",
       "\n",
       "     air_date notes  \n",
       "0  1984-09-10     -  \n",
       "1  1984-09-10     -  \n",
       "2  1984-09-10     -  \n",
       "3  1984-09-10     -  \n",
       "4  1984-09-10     -  "
      ]
     },
     "execution_count": 3,
     "metadata": {},
     "output_type": "execute_result"
    }
   ],
   "source": [
    "jeo.head()"
   ]
  },
  {
   "cell_type": "code",
   "execution_count": 4,
   "metadata": {},
   "outputs": [
    {
     "data": {
      "text/plain": [
       "round           0\n",
       "value           0\n",
       "daily_double    0\n",
       "category        0\n",
       "comments        0\n",
       "answer          0\n",
       "question        0\n",
       "air_date        0\n",
       "notes           0\n",
       "dtype: int64"
      ]
     },
     "execution_count": 4,
     "metadata": {},
     "output_type": "execute_result"
    }
   ],
   "source": [
    "jeo.isna().sum()"
   ]
  },
  {
   "cell_type": "markdown",
   "metadata": {},
   "source": [
    "Encoding the \"Daily Double\" column as that will be used to distinguish the color later on."
   ]
  },
  {
   "cell_type": "code",
   "execution_count": 5,
   "metadata": {},
   "outputs": [],
   "source": [
    "jeo['daily_double'] = [1 if x != 'no' else 0 for x in jeo['daily_double']]"
   ]
  },
  {
   "cell_type": "code",
   "execution_count": 6,
   "metadata": {},
   "outputs": [
    {
     "data": {
      "text/plain": [
       "0    332620\n",
       "1     17021\n",
       "Name: daily_double, dtype: int64"
      ]
     },
     "execution_count": 6,
     "metadata": {},
     "output_type": "execute_result"
    }
   ],
   "source": [
    "jeo['daily_double'].value_counts()"
   ]
  },
  {
   "cell_type": "markdown",
   "metadata": {},
   "source": [
    "This set contains close to 350,000 questions but I'll only need about 20,000 for the final product."
   ]
  },
  {
   "cell_type": "code",
   "execution_count": 7,
   "metadata": {},
   "outputs": [
    {
     "data": {
      "text/plain": [
       "349641"
      ]
     },
     "execution_count": 7,
     "metadata": {},
     "output_type": "execute_result"
    }
   ],
   "source": [
    "len(jeo)"
   ]
  },
  {
   "cell_type": "markdown",
   "metadata": {},
   "source": [
    "Some light cleaning of the text to remove the character '\\\\'."
   ]
  },
  {
   "cell_type": "code",
   "execution_count": 8,
   "metadata": {},
   "outputs": [],
   "source": [
    "def clean(text):\n",
    "    return text.replace('\\\\', '')"
   ]
  },
  {
   "cell_type": "code",
   "execution_count": 9,
   "metadata": {},
   "outputs": [],
   "source": [
    "jeo['answer'] = jeo['answer'].apply(clean)\n",
    "jeo['category'] = jeo['category'].apply(clean)\n",
    "jeo['question'] = jeo['question'].apply(clean)\n"
   ]
  },
  {
   "cell_type": "markdown",
   "metadata": {},
   "source": [
    "### Assigning Coordinates"
   ]
  },
  {
   "cell_type": "markdown",
   "metadata": {},
   "source": [
    "The x, y coordinats below are all the points on the grid 190 x 107."
   ]
  },
  {
   "cell_type": "code",
   "execution_count": 10,
   "metadata": {},
   "outputs": [],
   "source": [
    "x = list(range(1, 191)) * 107"
   ]
  },
  {
   "cell_type": "code",
   "execution_count": 11,
   "metadata": {},
   "outputs": [],
   "source": [
    "y = list(range(1, 108)) * 190"
   ]
  },
  {
   "cell_type": "markdown",
   "metadata": {},
   "source": [
    "Pairing them up."
   ]
  },
  {
   "cell_type": "code",
   "execution_count": 12,
   "metadata": {},
   "outputs": [],
   "source": [
    "coord = list(zip(x, y))"
   ]
  },
  {
   "cell_type": "code",
   "execution_count": 13,
   "metadata": {},
   "outputs": [
    {
     "data": {
      "text/plain": [
       "(1, 1)"
      ]
     },
     "execution_count": 13,
     "metadata": {},
     "output_type": "execute_result"
    }
   ],
   "source": [
    "coord[0]"
   ]
  },
  {
   "cell_type": "markdown",
   "metadata": {},
   "source": [
    "Next, I'm importing another CSV I created that has the coordinate to spell out \"JEOPARDY!\". These will be assigned to the Daily Double questions."
   ]
  },
  {
   "cell_type": "code",
   "execution_count": 14,
   "metadata": {},
   "outputs": [],
   "source": [
    "dd = pd.read_csv('./data/all_coord.csv')"
   ]
  },
  {
   "cell_type": "code",
   "execution_count": 15,
   "metadata": {},
   "outputs": [],
   "source": [
    "dd = dd[['X', 'Y']]"
   ]
  },
  {
   "cell_type": "code",
   "execution_count": 16,
   "metadata": {},
   "outputs": [
    {
     "data": {
      "text/html": [
       "<div>\n",
       "<style scoped>\n",
       "    .dataframe tbody tr th:only-of-type {\n",
       "        vertical-align: middle;\n",
       "    }\n",
       "\n",
       "    .dataframe tbody tr th {\n",
       "        vertical-align: top;\n",
       "    }\n",
       "\n",
       "    .dataframe thead th {\n",
       "        text-align: right;\n",
       "    }\n",
       "</style>\n",
       "<table border=\"1\" class=\"dataframe\">\n",
       "  <thead>\n",
       "    <tr style=\"text-align: right;\">\n",
       "      <th></th>\n",
       "      <th>X</th>\n",
       "      <th>Y</th>\n",
       "    </tr>\n",
       "  </thead>\n",
       "  <tbody>\n",
       "    <tr>\n",
       "      <th>2380</th>\n",
       "      <td>152.0</td>\n",
       "      <td>49.0</td>\n",
       "    </tr>\n",
       "    <tr>\n",
       "      <th>2381</th>\n",
       "      <td>152.0</td>\n",
       "      <td>48.0</td>\n",
       "    </tr>\n",
       "    <tr>\n",
       "      <th>2382</th>\n",
       "      <td>152.0</td>\n",
       "      <td>44.0</td>\n",
       "    </tr>\n",
       "    <tr>\n",
       "      <th>2383</th>\n",
       "      <td>152.0</td>\n",
       "      <td>43.0</td>\n",
       "    </tr>\n",
       "    <tr>\n",
       "      <th>2384</th>\n",
       "      <td>152.0</td>\n",
       "      <td>42.0</td>\n",
       "    </tr>\n",
       "  </tbody>\n",
       "</table>\n",
       "</div>"
      ],
      "text/plain": [
       "          X     Y\n",
       "2380  152.0  49.0\n",
       "2381  152.0  48.0\n",
       "2382  152.0  44.0\n",
       "2383  152.0  43.0\n",
       "2384  152.0  42.0"
      ]
     },
     "execution_count": 16,
     "metadata": {},
     "output_type": "execute_result"
    }
   ],
   "source": [
    "dd.tail()"
   ]
  },
  {
   "cell_type": "code",
   "execution_count": 17,
   "metadata": {},
   "outputs": [
    {
     "data": {
      "text/plain": [
       "X    1\n",
       "Y    1\n",
       "dtype: int64"
      ]
     },
     "execution_count": 17,
     "metadata": {},
     "output_type": "execute_result"
    }
   ],
   "source": [
    "dd.isna().sum()"
   ]
  },
  {
   "cell_type": "code",
   "execution_count": 18,
   "metadata": {},
   "outputs": [],
   "source": [
    "dd.dropna(inplace=True)\n",
    "dd.drop_duplicates(inplace = True)\n",
    "dd.reset_index(inplace=True)\n",
    "dd['X'] = dd['X'].astype(int)\n",
    "dd['Y'] = dd['Y'].astype(int)"
   ]
  },
  {
   "cell_type": "markdown",
   "metadata": {},
   "source": [
    "Pairing these up as well."
   ]
  },
  {
   "cell_type": "code",
   "execution_count": 19,
   "metadata": {},
   "outputs": [],
   "source": [
    "dd_coor = list(zip(dd['X'], dd['Y']))"
   ]
  },
  {
   "cell_type": "markdown",
   "metadata": {},
   "source": [
    "I'm going to remove these DD coordinates from the original list. Making them a set will be faster to check through."
   ]
  },
  {
   "cell_type": "code",
   "execution_count": 20,
   "metadata": {},
   "outputs": [],
   "source": [
    "to_check = set(dd_coor)"
   ]
  },
  {
   "cell_type": "code",
   "execution_count": 21,
   "metadata": {},
   "outputs": [
    {
     "data": {
      "text/plain": [
       "2373"
      ]
     },
     "execution_count": 21,
     "metadata": {},
     "output_type": "execute_result"
    }
   ],
   "source": [
    "len(to_check)"
   ]
  },
  {
   "cell_type": "code",
   "execution_count": 22,
   "metadata": {},
   "outputs": [
    {
     "data": {
      "text/plain": [
       "20330"
      ]
     },
     "execution_count": 22,
     "metadata": {},
     "output_type": "execute_result"
    }
   ],
   "source": [
    "len(coord)"
   ]
  },
  {
   "cell_type": "markdown",
   "metadata": {},
   "source": [
    "This function only keep coordinates that do not appear in the DD set."
   ]
  },
  {
   "cell_type": "code",
   "execution_count": 23,
   "metadata": {},
   "outputs": [],
   "source": [
    "def strip_coord(some_list):\n",
    "    cleaned = []\n",
    "    for x in some_list:\n",
    "        if x not in to_check:\n",
    "            cleaned.append(x)\n",
    "    return cleaned"
   ]
  },
  {
   "cell_type": "code",
   "execution_count": 24,
   "metadata": {},
   "outputs": [],
   "source": [
    "coord = strip_coord(coord)"
   ]
  },
  {
   "cell_type": "markdown",
   "metadata": {},
   "source": [
    "Unpairing the normal coordinates."
   ]
  },
  {
   "cell_type": "code",
   "execution_count": 25,
   "metadata": {},
   "outputs": [],
   "source": [
    "norm_x = [x for x, y in coord]\n",
    "norm_y = [y for x, y in coord]"
   ]
  },
  {
   "cell_type": "markdown",
   "metadata": {},
   "source": [
    "This DataFrame is only Daily Doubles, will be assigned the DD coordinates."
   ]
  },
  {
   "cell_type": "code",
   "execution_count": 26,
   "metadata": {},
   "outputs": [],
   "source": [
    "daily = jeo[jeo['daily_double'] == 1].tail(2373).reset_index()"
   ]
  },
  {
   "cell_type": "markdown",
   "metadata": {},
   "source": [
    "These are the normal questions, assigned the normal coordinates."
   ]
  },
  {
   "cell_type": "code",
   "execution_count": 27,
   "metadata": {},
   "outputs": [],
   "source": [
    "normal = jeo[jeo['daily_double'] == 0].tail(17957).reset_index()"
   ]
  },
  {
   "cell_type": "code",
   "execution_count": 28,
   "metadata": {},
   "outputs": [],
   "source": [
    "daily = pd.concat([daily, dd[['X']], dd[['Y']]], axis = 1)"
   ]
  },
  {
   "cell_type": "code",
   "execution_count": 29,
   "metadata": {},
   "outputs": [],
   "source": [
    "normal['X'] = norm_x"
   ]
  },
  {
   "cell_type": "code",
   "execution_count": 30,
   "metadata": {},
   "outputs": [],
   "source": [
    "normal['Y'] = norm_y"
   ]
  },
  {
   "cell_type": "markdown",
   "metadata": {},
   "source": [
    "Adding everything into one DataFrame."
   ]
  },
  {
   "cell_type": "code",
   "execution_count": 31,
   "metadata": {},
   "outputs": [],
   "source": [
    "final = pd.concat([daily, normal], axis = 0)"
   ]
  },
  {
   "cell_type": "code",
   "execution_count": 32,
   "metadata": {},
   "outputs": [
    {
     "data": {
      "text/html": [
       "<div>\n",
       "<style scoped>\n",
       "    .dataframe tbody tr th:only-of-type {\n",
       "        vertical-align: middle;\n",
       "    }\n",
       "\n",
       "    .dataframe tbody tr th {\n",
       "        vertical-align: top;\n",
       "    }\n",
       "\n",
       "    .dataframe thead th {\n",
       "        text-align: right;\n",
       "    }\n",
       "</style>\n",
       "<table border=\"1\" class=\"dataframe\">\n",
       "  <thead>\n",
       "    <tr style=\"text-align: right;\">\n",
       "      <th></th>\n",
       "      <th>index</th>\n",
       "      <th>round</th>\n",
       "      <th>value</th>\n",
       "      <th>daily_double</th>\n",
       "      <th>category</th>\n",
       "      <th>comments</th>\n",
       "      <th>answer</th>\n",
       "      <th>question</th>\n",
       "      <th>air_date</th>\n",
       "      <th>notes</th>\n",
       "      <th>X</th>\n",
       "      <th>Y</th>\n",
       "    </tr>\n",
       "  </thead>\n",
       "  <tbody>\n",
       "    <tr>\n",
       "      <th>0</th>\n",
       "      <td>304468</td>\n",
       "      <td>2</td>\n",
       "      <td>3800</td>\n",
       "      <td>1</td>\n",
       "      <td>WE'RE ON THE ROAD TO</td>\n",
       "      <td>-</td>\n",
       "      <td>...see the sights in this capital; we've left ...</td>\n",
       "      <td>Riyadh (Saudi Arabia)</td>\n",
       "      <td>2015-12-07</td>\n",
       "      <td>-</td>\n",
       "      <td>35</td>\n",
       "      <td>51</td>\n",
       "    </tr>\n",
       "    <tr>\n",
       "      <th>1</th>\n",
       "      <td>304490</td>\n",
       "      <td>2</td>\n",
       "      <td>3000</td>\n",
       "      <td>1</td>\n",
       "      <td>PULLING RANK</td>\n",
       "      <td>-</td>\n",
       "      <td>This prince &amp; would-be king ignored advisors &amp;...</td>\n",
       "      <td>Bonnie Prince Charlie</td>\n",
       "      <td>2015-12-07</td>\n",
       "      <td>-</td>\n",
       "      <td>35</td>\n",
       "      <td>50</td>\n",
       "    </tr>\n",
       "    <tr>\n",
       "      <th>2</th>\n",
       "      <td>304505</td>\n",
       "      <td>1</td>\n",
       "      <td>500</td>\n",
       "      <td>1</td>\n",
       "      <td>COUNTRIES' NATIONAL ANTHEMS</td>\n",
       "      <td>-</td>\n",
       "      <td>\"Himno Istmeño\", or \"Isthmus Hymn\"</td>\n",
       "      <td>Panama</td>\n",
       "      <td>2015-12-08</td>\n",
       "      <td>-</td>\n",
       "      <td>35</td>\n",
       "      <td>49</td>\n",
       "    </tr>\n",
       "    <tr>\n",
       "      <th>3</th>\n",
       "      <td>304525</td>\n",
       "      <td>2</td>\n",
       "      <td>3000</td>\n",
       "      <td>1</td>\n",
       "      <td>COLONIAL NEW ENGLAND</td>\n",
       "      <td>-</td>\n",
       "      <td>First formed to drive New York settlers out of...</td>\n",
       "      <td>the Green Mountain Boys</td>\n",
       "      <td>2015-12-08</td>\n",
       "      <td>-</td>\n",
       "      <td>35</td>\n",
       "      <td>48</td>\n",
       "    </tr>\n",
       "    <tr>\n",
       "      <th>4</th>\n",
       "      <td>304536</td>\n",
       "      <td>2</td>\n",
       "      <td>2000</td>\n",
       "      <td>1</td>\n",
       "      <td>PARLIAMENT VS. CONGRESS</td>\n",
       "      <td>-</td>\n",
       "      <td>It's the area from which you can watch politic...</td>\n",
       "      <td>the gallery</td>\n",
       "      <td>2015-12-08</td>\n",
       "      <td>-</td>\n",
       "      <td>35</td>\n",
       "      <td>47</td>\n",
       "    </tr>\n",
       "    <tr>\n",
       "      <th>...</th>\n",
       "      <td>...</td>\n",
       "      <td>...</td>\n",
       "      <td>...</td>\n",
       "      <td>...</td>\n",
       "      <td>...</td>\n",
       "      <td>...</td>\n",
       "      <td>...</td>\n",
       "      <td>...</td>\n",
       "      <td>...</td>\n",
       "      <td>...</td>\n",
       "      <td>...</td>\n",
       "      <td>...</td>\n",
       "    </tr>\n",
       "    <tr>\n",
       "      <th>17952</th>\n",
       "      <td>349636</td>\n",
       "      <td>2</td>\n",
       "      <td>400</td>\n",
       "      <td>0</td>\n",
       "      <td>MAKE IT SNAPPY</td>\n",
       "      <td>-</td>\n",
       "      <td>As well as photosharing on this app, you can w...</td>\n",
       "      <td>Snapchat</td>\n",
       "      <td>2019-07-26</td>\n",
       "      <td>-</td>\n",
       "      <td>186</td>\n",
       "      <td>103</td>\n",
       "    </tr>\n",
       "    <tr>\n",
       "      <th>17953</th>\n",
       "      <td>349637</td>\n",
       "      <td>2</td>\n",
       "      <td>800</td>\n",
       "      <td>0</td>\n",
       "      <td>MAKE IT SNAPPY</td>\n",
       "      <td>-</td>\n",
       "      <td>Genus Antirrhinum, these flowers snap closed a...</td>\n",
       "      <td>snapdragons</td>\n",
       "      <td>2019-07-26</td>\n",
       "      <td>-</td>\n",
       "      <td>187</td>\n",
       "      <td>104</td>\n",
       "    </tr>\n",
       "    <tr>\n",
       "      <th>17954</th>\n",
       "      <td>349638</td>\n",
       "      <td>2</td>\n",
       "      <td>1600</td>\n",
       "      <td>0</td>\n",
       "      <td>MAKE IT SNAPPY</td>\n",
       "      <td>-</td>\n",
       "      <td>This hyphenated tool company owns brands like ...</td>\n",
       "      <td>Snap-On</td>\n",
       "      <td>2019-07-26</td>\n",
       "      <td>-</td>\n",
       "      <td>188</td>\n",
       "      <td>105</td>\n",
       "    </tr>\n",
       "    <tr>\n",
       "      <th>17955</th>\n",
       "      <td>349639</td>\n",
       "      <td>2</td>\n",
       "      <td>2000</td>\n",
       "      <td>0</td>\n",
       "      <td>MAKE IT SNAPPY</td>\n",
       "      <td>-</td>\n",
       "      <td>In 2019 meteorologist Daryl Ritchison at NDSU,...</td>\n",
       "      <td>North Dakota State University</td>\n",
       "      <td>2019-07-26</td>\n",
       "      <td>-</td>\n",
       "      <td>189</td>\n",
       "      <td>106</td>\n",
       "    </tr>\n",
       "    <tr>\n",
       "      <th>17956</th>\n",
       "      <td>349640</td>\n",
       "      <td>3</td>\n",
       "      <td>0</td>\n",
       "      <td>0</td>\n",
       "      <td>HISTORIC SHIPS</td>\n",
       "      <td>-</td>\n",
       "      <td>215 passengers were rescued when it sank in Ju...</td>\n",
       "      <td>the Carpathia</td>\n",
       "      <td>2019-07-26</td>\n",
       "      <td>-</td>\n",
       "      <td>190</td>\n",
       "      <td>107</td>\n",
       "    </tr>\n",
       "  </tbody>\n",
       "</table>\n",
       "<p>20330 rows × 12 columns</p>\n",
       "</div>"
      ],
      "text/plain": [
       "        index  round  value  daily_double                     category  \\\n",
       "0      304468      2   3800             1         WE'RE ON THE ROAD TO   \n",
       "1      304490      2   3000             1                 PULLING RANK   \n",
       "2      304505      1    500             1  COUNTRIES' NATIONAL ANTHEMS   \n",
       "3      304525      2   3000             1         COLONIAL NEW ENGLAND   \n",
       "4      304536      2   2000             1      PARLIAMENT VS. CONGRESS   \n",
       "...       ...    ...    ...           ...                          ...   \n",
       "17952  349636      2    400             0               MAKE IT SNAPPY   \n",
       "17953  349637      2    800             0               MAKE IT SNAPPY   \n",
       "17954  349638      2   1600             0               MAKE IT SNAPPY   \n",
       "17955  349639      2   2000             0               MAKE IT SNAPPY   \n",
       "17956  349640      3      0             0               HISTORIC SHIPS   \n",
       "\n",
       "      comments                                             answer  \\\n",
       "0            -  ...see the sights in this capital; we've left ...   \n",
       "1            -  This prince & would-be king ignored advisors &...   \n",
       "2            -                 \"Himno Istmeño\", or \"Isthmus Hymn\"   \n",
       "3            -  First formed to drive New York settlers out of...   \n",
       "4            -  It's the area from which you can watch politic...   \n",
       "...        ...                                                ...   \n",
       "17952        -  As well as photosharing on this app, you can w...   \n",
       "17953        -  Genus Antirrhinum, these flowers snap closed a...   \n",
       "17954        -  This hyphenated tool company owns brands like ...   \n",
       "17955        -  In 2019 meteorologist Daryl Ritchison at NDSU,...   \n",
       "17956        -  215 passengers were rescued when it sank in Ju...   \n",
       "\n",
       "                            question    air_date notes    X    Y  \n",
       "0              Riyadh (Saudi Arabia)  2015-12-07     -   35   51  \n",
       "1              Bonnie Prince Charlie  2015-12-07     -   35   50  \n",
       "2                             Panama  2015-12-08     -   35   49  \n",
       "3            the Green Mountain Boys  2015-12-08     -   35   48  \n",
       "4                        the gallery  2015-12-08     -   35   47  \n",
       "...                              ...         ...   ...  ...  ...  \n",
       "17952                       Snapchat  2019-07-26     -  186  103  \n",
       "17953                    snapdragons  2019-07-26     -  187  104  \n",
       "17954                        Snap-On  2019-07-26     -  188  105  \n",
       "17955  North Dakota State University  2019-07-26     -  189  106  \n",
       "17956                  the Carpathia  2019-07-26     -  190  107  \n",
       "\n",
       "[20330 rows x 12 columns]"
      ]
     },
     "execution_count": 32,
     "metadata": {},
     "output_type": "execute_result"
    }
   ],
   "source": [
    "final"
   ]
  },
  {
   "cell_type": "code",
   "execution_count": 33,
   "metadata": {},
   "outputs": [
    {
     "data": {
      "text/plain": [
       "index           0\n",
       "round           0\n",
       "value           0\n",
       "daily_double    0\n",
       "category        0\n",
       "comments        0\n",
       "answer          0\n",
       "question        0\n",
       "air_date        0\n",
       "notes           0\n",
       "X               0\n",
       "Y               0\n",
       "dtype: int64"
      ]
     },
     "execution_count": 33,
     "metadata": {},
     "output_type": "execute_result"
    }
   ],
   "source": [
    "final.isna().sum()"
   ]
  },
  {
   "cell_type": "code",
   "execution_count": 34,
   "metadata": {},
   "outputs": [],
   "source": [
    "final.dropna(inplace = True)"
   ]
  },
  {
   "cell_type": "code",
   "execution_count": 35,
   "metadata": {},
   "outputs": [],
   "source": [
    "dd_dict = {1 : 'DAILY DOUBLE !!!', 0:''}"
   ]
  },
  {
   "cell_type": "markdown",
   "metadata": {},
   "source": [
    "Changing Daily Doubles to the text I want displayed and exporting."
   ]
  },
  {
   "cell_type": "code",
   "execution_count": 36,
   "metadata": {},
   "outputs": [],
   "source": [
    "final['daily_double'] = final['daily_double'].map(dd_dict)"
   ]
  },
  {
   "cell_type": "code",
   "execution_count": 37,
   "metadata": {},
   "outputs": [
    {
     "data": {
      "text/plain": [
       "                    17957\n",
       "DAILY DOUBLE !!!     2373\n",
       "Name: daily_double, dtype: int64"
      ]
     },
     "execution_count": 37,
     "metadata": {},
     "output_type": "execute_result"
    }
   ],
   "source": [
    "final['daily_double'].value_counts()"
   ]
  },
  {
   "cell_type": "code",
   "execution_count": 38,
   "metadata": {},
   "outputs": [],
   "source": [
    "final.to_csv('./data/final_coord.csv', index=False)"
   ]
  }
 ],
 "metadata": {
  "kernelspec": {
   "display_name": "Python 3",
   "language": "python",
   "name": "python3"
  },
  "language_info": {
   "codemirror_mode": {
    "name": "ipython",
    "version": 3
   },
   "file_extension": ".py",
   "mimetype": "text/x-python",
   "name": "python",
   "nbconvert_exporter": "python",
   "pygments_lexer": "ipython3",
   "version": "3.7.6"
  }
 },
 "nbformat": 4,
 "nbformat_minor": 4
}
