{
 "cells": [
  {
   "cell_type": "markdown",
   "metadata": {},
   "source": [
    "# Jeopardy! \n",
    "Creating a grid of 10,000 questions. "
   ]
  },
  {
   "cell_type": "code",
   "execution_count": 1,
   "metadata": {},
   "outputs": [],
   "source": [
    "import pandas as pd\n",
    "import numpy as np"
   ]
  },
  {
   "cell_type": "code",
   "execution_count": 2,
   "metadata": {},
   "outputs": [],
   "source": [
    "jeo = pd.read_csv('./data/master_season1-35.tsv', sep='\\t')"
   ]
  },
  {
   "cell_type": "code",
   "execution_count": 3,
   "metadata": {},
   "outputs": [
    {
     "data": {
      "text/html": [
       "<div>\n",
       "<style scoped>\n",
       "    .dataframe tbody tr th:only-of-type {\n",
       "        vertical-align: middle;\n",
       "    }\n",
       "\n",
       "    .dataframe tbody tr th {\n",
       "        vertical-align: top;\n",
       "    }\n",
       "\n",
       "    .dataframe thead th {\n",
       "        text-align: right;\n",
       "    }\n",
       "</style>\n",
       "<table border=\"1\" class=\"dataframe\">\n",
       "  <thead>\n",
       "    <tr style=\"text-align: right;\">\n",
       "      <th></th>\n",
       "      <th>round</th>\n",
       "      <th>value</th>\n",
       "      <th>daily_double</th>\n",
       "      <th>category</th>\n",
       "      <th>comments</th>\n",
       "      <th>answer</th>\n",
       "      <th>question</th>\n",
       "      <th>air_date</th>\n",
       "      <th>notes</th>\n",
       "    </tr>\n",
       "  </thead>\n",
       "  <tbody>\n",
       "    <tr>\n",
       "      <th>0</th>\n",
       "      <td>1</td>\n",
       "      <td>100</td>\n",
       "      <td>no</td>\n",
       "      <td>LAKES &amp; RIVERS</td>\n",
       "      <td>-</td>\n",
       "      <td>River mentioned most often in the Bible</td>\n",
       "      <td>the Jordan</td>\n",
       "      <td>1984-09-10</td>\n",
       "      <td>-</td>\n",
       "    </tr>\n",
       "    <tr>\n",
       "      <th>1</th>\n",
       "      <td>1</td>\n",
       "      <td>200</td>\n",
       "      <td>no</td>\n",
       "      <td>LAKES &amp; RIVERS</td>\n",
       "      <td>-</td>\n",
       "      <td>Scottish word for lake</td>\n",
       "      <td>loch</td>\n",
       "      <td>1984-09-10</td>\n",
       "      <td>-</td>\n",
       "    </tr>\n",
       "    <tr>\n",
       "      <th>2</th>\n",
       "      <td>1</td>\n",
       "      <td>400</td>\n",
       "      <td>no</td>\n",
       "      <td>LAKES &amp; RIVERS</td>\n",
       "      <td>-</td>\n",
       "      <td>American river only 33 miles shorter than the ...</td>\n",
       "      <td>the Missouri</td>\n",
       "      <td>1984-09-10</td>\n",
       "      <td>-</td>\n",
       "    </tr>\n",
       "    <tr>\n",
       "      <th>3</th>\n",
       "      <td>1</td>\n",
       "      <td>500</td>\n",
       "      <td>no</td>\n",
       "      <td>LAKES &amp; RIVERS</td>\n",
       "      <td>-</td>\n",
       "      <td>World's largest lake, nearly 5 times as big as...</td>\n",
       "      <td>the Caspian Sea</td>\n",
       "      <td>1984-09-10</td>\n",
       "      <td>-</td>\n",
       "    </tr>\n",
       "    <tr>\n",
       "      <th>4</th>\n",
       "      <td>1</td>\n",
       "      <td>100</td>\n",
       "      <td>no</td>\n",
       "      <td>INVENTIONS</td>\n",
       "      <td>-</td>\n",
       "      <td>Marconi's wonderful wireless</td>\n",
       "      <td>the radio</td>\n",
       "      <td>1984-09-10</td>\n",
       "      <td>-</td>\n",
       "    </tr>\n",
       "    <tr>\n",
       "      <th>5</th>\n",
       "      <td>1</td>\n",
       "      <td>200</td>\n",
       "      <td>no</td>\n",
       "      <td>INVENTIONS</td>\n",
       "      <td>-</td>\n",
       "      <td>In 1869 an American minister created this \"ori...</td>\n",
       "      <td>the rickshaw</td>\n",
       "      <td>1984-09-10</td>\n",
       "      <td>-</td>\n",
       "    </tr>\n",
       "    <tr>\n",
       "      <th>6</th>\n",
       "      <td>1</td>\n",
       "      <td>300</td>\n",
       "      <td>no</td>\n",
       "      <td>INVENTIONS</td>\n",
       "      <td>-</td>\n",
       "      <td>A 1920's hunting trip to Canada inspired Birds...</td>\n",
       "      <td>freezing</td>\n",
       "      <td>1984-09-10</td>\n",
       "      <td>-</td>\n",
       "    </tr>\n",
       "    <tr>\n",
       "      <th>7</th>\n",
       "      <td>1</td>\n",
       "      <td>400</td>\n",
       "      <td>no</td>\n",
       "      <td>INVENTIONS</td>\n",
       "      <td>-</td>\n",
       "      <td>This fastener gets its name from a brand of ga...</td>\n",
       "      <td>a zipper</td>\n",
       "      <td>1984-09-10</td>\n",
       "      <td>-</td>\n",
       "    </tr>\n",
       "    <tr>\n",
       "      <th>8</th>\n",
       "      <td>1</td>\n",
       "      <td>100</td>\n",
       "      <td>no</td>\n",
       "      <td>ANIMALS</td>\n",
       "      <td>-</td>\n",
       "      <td>These rodents first got to America by stowing ...</td>\n",
       "      <td>rats</td>\n",
       "      <td>1984-09-10</td>\n",
       "      <td>-</td>\n",
       "    </tr>\n",
       "    <tr>\n",
       "      <th>9</th>\n",
       "      <td>1</td>\n",
       "      <td>200</td>\n",
       "      <td>no</td>\n",
       "      <td>ANIMALS</td>\n",
       "      <td>-</td>\n",
       "      <td>There are about 40,000 muscles &amp; tendons in th...</td>\n",
       "      <td>the trunk</td>\n",
       "      <td>1984-09-10</td>\n",
       "      <td>-</td>\n",
       "    </tr>\n",
       "    <tr>\n",
       "      <th>10</th>\n",
       "      <td>1</td>\n",
       "      <td>300</td>\n",
       "      <td>no</td>\n",
       "      <td>ANIMALS</td>\n",
       "      <td>-</td>\n",
       "      <td>When husbands \"pop\" for an ermine coat, they'r...</td>\n",
       "      <td>a weasel</td>\n",
       "      <td>1984-09-10</td>\n",
       "      <td>-</td>\n",
       "    </tr>\n",
       "    <tr>\n",
       "      <th>11</th>\n",
       "      <td>1</td>\n",
       "      <td>400</td>\n",
       "      <td>no</td>\n",
       "      <td>ANIMALS</td>\n",
       "      <td>-</td>\n",
       "      <td>Close relative of the pig, though its name mea...</td>\n",
       "      <td>the hippopotamus</td>\n",
       "      <td>1984-09-10</td>\n",
       "      <td>-</td>\n",
       "    </tr>\n",
       "    <tr>\n",
       "      <th>12</th>\n",
       "      <td>1</td>\n",
       "      <td>500</td>\n",
       "      <td>no</td>\n",
       "      <td>ANIMALS</td>\n",
       "      <td>-</td>\n",
       "      <td>If this species of hybrid's parents were rever...</td>\n",
       "      <td>mule</td>\n",
       "      <td>1984-09-10</td>\n",
       "      <td>-</td>\n",
       "    </tr>\n",
       "    <tr>\n",
       "      <th>13</th>\n",
       "      <td>1</td>\n",
       "      <td>100</td>\n",
       "      <td>no</td>\n",
       "      <td>FOREIGN CUISINE</td>\n",
       "      <td>-</td>\n",
       "      <td>The \"coq\" in coq au vin</td>\n",
       "      <td>chicken</td>\n",
       "      <td>1984-09-10</td>\n",
       "      <td>-</td>\n",
       "    </tr>\n",
       "    <tr>\n",
       "      <th>14</th>\n",
       "      <td>1</td>\n",
       "      <td>200</td>\n",
       "      <td>no</td>\n",
       "      <td>FOREIGN CUISINE</td>\n",
       "      <td>-</td>\n",
       "      <td>A British variety is called \"bangers\", a Mexic...</td>\n",
       "      <td>sausages</td>\n",
       "      <td>1984-09-10</td>\n",
       "      <td>-</td>\n",
       "    </tr>\n",
       "    <tr>\n",
       "      <th>15</th>\n",
       "      <td>1</td>\n",
       "      <td>300</td>\n",
       "      <td>no</td>\n",
       "      <td>FOREIGN CUISINE</td>\n",
       "      <td>-</td>\n",
       "      <td>Jewish crepe filled with cheese</td>\n",
       "      <td>a blintz</td>\n",
       "      <td>1984-09-10</td>\n",
       "      <td>-</td>\n",
       "    </tr>\n",
       "    <tr>\n",
       "      <th>16</th>\n",
       "      <td>1</td>\n",
       "      <td>400</td>\n",
       "      <td>no</td>\n",
       "      <td>FOREIGN CUISINE</td>\n",
       "      <td>-</td>\n",
       "      <td>French for a toothsome cut of beef served to a...</td>\n",
       "      <td>Châteaubriand</td>\n",
       "      <td>1984-09-10</td>\n",
       "      <td>-</td>\n",
       "    </tr>\n",
       "    <tr>\n",
       "      <th>17</th>\n",
       "      <td>1</td>\n",
       "      <td>100</td>\n",
       "      <td>no</td>\n",
       "      <td>ACTORS &amp; ROLES</td>\n",
       "      <td>-</td>\n",
       "      <td>Video in which Michael Jackson plays a werewol...</td>\n",
       "      <td>\\\"Thriller\\\"</td>\n",
       "      <td>1984-09-10</td>\n",
       "      <td>-</td>\n",
       "    </tr>\n",
       "    <tr>\n",
       "      <th>18</th>\n",
       "      <td>1</td>\n",
       "      <td>200</td>\n",
       "      <td>no</td>\n",
       "      <td>ACTORS &amp; ROLES</td>\n",
       "      <td>-</td>\n",
       "      <td>2 \"Saturday Night\" alumni who tried \"Trading P...</td>\n",
       "      <td>Dan Aykroyd &amp; Eddie Murphy</td>\n",
       "      <td>1984-09-10</td>\n",
       "      <td>-</td>\n",
       "    </tr>\n",
       "    <tr>\n",
       "      <th>19</th>\n",
       "      <td>1</td>\n",
       "      <td>300</td>\n",
       "      <td>no</td>\n",
       "      <td>ACTORS &amp; ROLES</td>\n",
       "      <td>-</td>\n",
       "      <td>He may \"Never Say Never Again\" when asked to b...</td>\n",
       "      <td>Sean Connery</td>\n",
       "      <td>1984-09-10</td>\n",
       "      <td>-</td>\n",
       "    </tr>\n",
       "  </tbody>\n",
       "</table>\n",
       "</div>"
      ],
      "text/plain": [
       "    round  value daily_double         category comments  \\\n",
       "0       1    100           no   LAKES & RIVERS        -   \n",
       "1       1    200           no   LAKES & RIVERS        -   \n",
       "2       1    400           no   LAKES & RIVERS        -   \n",
       "3       1    500           no   LAKES & RIVERS        -   \n",
       "4       1    100           no       INVENTIONS        -   \n",
       "5       1    200           no       INVENTIONS        -   \n",
       "6       1    300           no       INVENTIONS        -   \n",
       "7       1    400           no       INVENTIONS        -   \n",
       "8       1    100           no          ANIMALS        -   \n",
       "9       1    200           no          ANIMALS        -   \n",
       "10      1    300           no          ANIMALS        -   \n",
       "11      1    400           no          ANIMALS        -   \n",
       "12      1    500           no          ANIMALS        -   \n",
       "13      1    100           no  FOREIGN CUISINE        -   \n",
       "14      1    200           no  FOREIGN CUISINE        -   \n",
       "15      1    300           no  FOREIGN CUISINE        -   \n",
       "16      1    400           no  FOREIGN CUISINE        -   \n",
       "17      1    100           no   ACTORS & ROLES        -   \n",
       "18      1    200           no   ACTORS & ROLES        -   \n",
       "19      1    300           no   ACTORS & ROLES        -   \n",
       "\n",
       "                                               answer  \\\n",
       "0             River mentioned most often in the Bible   \n",
       "1                              Scottish word for lake   \n",
       "2   American river only 33 miles shorter than the ...   \n",
       "3   World's largest lake, nearly 5 times as big as...   \n",
       "4                        Marconi's wonderful wireless   \n",
       "5   In 1869 an American minister created this \"ori...   \n",
       "6   A 1920's hunting trip to Canada inspired Birds...   \n",
       "7   This fastener gets its name from a brand of ga...   \n",
       "8   These rodents first got to America by stowing ...   \n",
       "9   There are about 40,000 muscles & tendons in th...   \n",
       "10  When husbands \"pop\" for an ermine coat, they'r...   \n",
       "11  Close relative of the pig, though its name mea...   \n",
       "12  If this species of hybrid's parents were rever...   \n",
       "13                            The \"coq\" in coq au vin   \n",
       "14  A British variety is called \"bangers\", a Mexic...   \n",
       "15                    Jewish crepe filled with cheese   \n",
       "16  French for a toothsome cut of beef served to a...   \n",
       "17  Video in which Michael Jackson plays a werewol...   \n",
       "18  2 \"Saturday Night\" alumni who tried \"Trading P...   \n",
       "19  He may \"Never Say Never Again\" when asked to b...   \n",
       "\n",
       "                      question    air_date notes  \n",
       "0                   the Jordan  1984-09-10     -  \n",
       "1                         loch  1984-09-10     -  \n",
       "2                 the Missouri  1984-09-10     -  \n",
       "3              the Caspian Sea  1984-09-10     -  \n",
       "4                    the radio  1984-09-10     -  \n",
       "5                 the rickshaw  1984-09-10     -  \n",
       "6                     freezing  1984-09-10     -  \n",
       "7                     a zipper  1984-09-10     -  \n",
       "8                         rats  1984-09-10     -  \n",
       "9                    the trunk  1984-09-10     -  \n",
       "10                    a weasel  1984-09-10     -  \n",
       "11            the hippopotamus  1984-09-10     -  \n",
       "12                        mule  1984-09-10     -  \n",
       "13                     chicken  1984-09-10     -  \n",
       "14                    sausages  1984-09-10     -  \n",
       "15                    a blintz  1984-09-10     -  \n",
       "16               Châteaubriand  1984-09-10     -  \n",
       "17                \\\"Thriller\\\"  1984-09-10     -  \n",
       "18  Dan Aykroyd & Eddie Murphy  1984-09-10     -  \n",
       "19                Sean Connery  1984-09-10     -  "
      ]
     },
     "execution_count": 3,
     "metadata": {},
     "output_type": "execute_result"
    }
   ],
   "source": [
    "jeo.head(20)"
   ]
  },
  {
   "cell_type": "code",
   "execution_count": 4,
   "metadata": {},
   "outputs": [
    {
     "data": {
      "text/plain": [
       "round           0\n",
       "value           0\n",
       "daily_double    0\n",
       "category        0\n",
       "comments        0\n",
       "answer          0\n",
       "question        0\n",
       "air_date        0\n",
       "notes           0\n",
       "dtype: int64"
      ]
     },
     "execution_count": 4,
     "metadata": {},
     "output_type": "execute_result"
    }
   ],
   "source": [
    "jeo.isna().sum()"
   ]
  },
  {
   "cell_type": "code",
   "execution_count": 5,
   "metadata": {},
   "outputs": [],
   "source": [
    "jeo['daily_double'] = [1 if x != 'no' else 0 for x in jeo['daily_double']]"
   ]
  },
  {
   "cell_type": "code",
   "execution_count": 6,
   "metadata": {},
   "outputs": [
    {
     "data": {
      "text/plain": [
       "0    332620\n",
       "1     17021\n",
       "Name: daily_double, dtype: int64"
      ]
     },
     "execution_count": 6,
     "metadata": {},
     "output_type": "execute_result"
    }
   ],
   "source": [
    "jeo['daily_double'].value_counts()"
   ]
  },
  {
   "cell_type": "code",
   "execution_count": 7,
   "metadata": {},
   "outputs": [
    {
     "data": {
      "text/plain": [
       "349641"
      ]
     },
     "execution_count": 7,
     "metadata": {},
     "output_type": "execute_result"
    }
   ],
   "source": [
    "len(jeo)"
   ]
  },
  {
   "cell_type": "code",
   "execution_count": 8,
   "metadata": {},
   "outputs": [],
   "source": [
    "x = list(range(1, 191)) * 107"
   ]
  },
  {
   "cell_type": "code",
   "execution_count": 9,
   "metadata": {},
   "outputs": [],
   "source": [
    "y = list(range(1, 108)) * 190"
   ]
  },
  {
   "cell_type": "code",
   "execution_count": 10,
   "metadata": {},
   "outputs": [],
   "source": [
    "coord = list(zip(x, y))"
   ]
  },
  {
   "cell_type": "code",
   "execution_count": 11,
   "metadata": {},
   "outputs": [
    {
     "data": {
      "text/plain": [
       "(1, 1)"
      ]
     },
     "execution_count": 11,
     "metadata": {},
     "output_type": "execute_result"
    }
   ],
   "source": [
    "coord[0]"
   ]
  },
  {
   "cell_type": "code",
   "execution_count": 12,
   "metadata": {},
   "outputs": [],
   "source": [
    "dd = pd.read_csv('./data/all_coord.csv')"
   ]
  },
  {
   "cell_type": "code",
   "execution_count": 13,
   "metadata": {},
   "outputs": [],
   "source": [
    "dd = dd[['X', 'Y']]"
   ]
  },
  {
   "cell_type": "code",
   "execution_count": 14,
   "metadata": {},
   "outputs": [
    {
     "data": {
      "text/html": [
       "<div>\n",
       "<style scoped>\n",
       "    .dataframe tbody tr th:only-of-type {\n",
       "        vertical-align: middle;\n",
       "    }\n",
       "\n",
       "    .dataframe tbody tr th {\n",
       "        vertical-align: top;\n",
       "    }\n",
       "\n",
       "    .dataframe thead th {\n",
       "        text-align: right;\n",
       "    }\n",
       "</style>\n",
       "<table border=\"1\" class=\"dataframe\">\n",
       "  <thead>\n",
       "    <tr style=\"text-align: right;\">\n",
       "      <th></th>\n",
       "      <th>X</th>\n",
       "      <th>Y</th>\n",
       "    </tr>\n",
       "  </thead>\n",
       "  <tbody>\n",
       "    <tr>\n",
       "      <th>2380</th>\n",
       "      <td>152.0</td>\n",
       "      <td>49.0</td>\n",
       "    </tr>\n",
       "    <tr>\n",
       "      <th>2381</th>\n",
       "      <td>152.0</td>\n",
       "      <td>48.0</td>\n",
       "    </tr>\n",
       "    <tr>\n",
       "      <th>2382</th>\n",
       "      <td>152.0</td>\n",
       "      <td>44.0</td>\n",
       "    </tr>\n",
       "    <tr>\n",
       "      <th>2383</th>\n",
       "      <td>152.0</td>\n",
       "      <td>43.0</td>\n",
       "    </tr>\n",
       "    <tr>\n",
       "      <th>2384</th>\n",
       "      <td>152.0</td>\n",
       "      <td>42.0</td>\n",
       "    </tr>\n",
       "  </tbody>\n",
       "</table>\n",
       "</div>"
      ],
      "text/plain": [
       "          X     Y\n",
       "2380  152.0  49.0\n",
       "2381  152.0  48.0\n",
       "2382  152.0  44.0\n",
       "2383  152.0  43.0\n",
       "2384  152.0  42.0"
      ]
     },
     "execution_count": 14,
     "metadata": {},
     "output_type": "execute_result"
    }
   ],
   "source": [
    "dd.tail()"
   ]
  },
  {
   "cell_type": "code",
   "execution_count": 15,
   "metadata": {},
   "outputs": [
    {
     "data": {
      "text/plain": [
       "X    1\n",
       "Y    1\n",
       "dtype: int64"
      ]
     },
     "execution_count": 15,
     "metadata": {},
     "output_type": "execute_result"
    }
   ],
   "source": [
    "dd.isna().sum()"
   ]
  },
  {
   "cell_type": "code",
   "execution_count": 16,
   "metadata": {},
   "outputs": [],
   "source": [
    "dd.dropna(inplace=True)"
   ]
  },
  {
   "cell_type": "code",
   "execution_count": 17,
   "metadata": {},
   "outputs": [],
   "source": [
    "dd['X'] = dd['X'].astype(int)"
   ]
  },
  {
   "cell_type": "code",
   "execution_count": 18,
   "metadata": {},
   "outputs": [],
   "source": [
    "dd['Y'] = dd['Y'].astype(int)"
   ]
  },
  {
   "cell_type": "code",
   "execution_count": 19,
   "metadata": {},
   "outputs": [],
   "source": [
    "dd_coor = list(zip(dd['X'], dd['Y']))"
   ]
  },
  {
   "cell_type": "code",
   "execution_count": 20,
   "metadata": {
    "scrolled": true
   },
   "outputs": [
    {
     "data": {
      "text/plain": [
       "(35, 51)"
      ]
     },
     "execution_count": 20,
     "metadata": {},
     "output_type": "execute_result"
    }
   ],
   "source": [
    "dd_coor[0]"
   ]
  },
  {
   "cell_type": "code",
   "execution_count": 21,
   "metadata": {},
   "outputs": [],
   "source": [
    "to_check = set(dd_coor)"
   ]
  },
  {
   "cell_type": "code",
   "execution_count": 22,
   "metadata": {},
   "outputs": [
    {
     "data": {
      "text/plain": [
       "2373"
      ]
     },
     "execution_count": 22,
     "metadata": {},
     "output_type": "execute_result"
    }
   ],
   "source": [
    "len(to_check)"
   ]
  },
  {
   "cell_type": "code",
   "execution_count": 23,
   "metadata": {},
   "outputs": [
    {
     "data": {
      "text/plain": [
       "20330"
      ]
     },
     "execution_count": 23,
     "metadata": {},
     "output_type": "execute_result"
    }
   ],
   "source": [
    "len(coord)"
   ]
  },
  {
   "cell_type": "code",
   "execution_count": 24,
   "metadata": {},
   "outputs": [],
   "source": [
    "def strip_coord(some_list):\n",
    "    cleaned = []\n",
    "    for x in some_list:\n",
    "        if x not in to_check:\n",
    "            cleaned.append(x)\n",
    "    return cleaned"
   ]
  },
  {
   "cell_type": "code",
   "execution_count": 25,
   "metadata": {},
   "outputs": [],
   "source": [
    "coord = strip_coord(coord)"
   ]
  },
  {
   "cell_type": "code",
   "execution_count": 26,
   "metadata": {},
   "outputs": [
    {
     "data": {
      "text/plain": [
       "17957"
      ]
     },
     "execution_count": 26,
     "metadata": {},
     "output_type": "execute_result"
    }
   ],
   "source": [
    "len(coord)"
   ]
  },
  {
   "cell_type": "code",
   "execution_count": 27,
   "metadata": {},
   "outputs": [
    {
     "data": {
      "text/plain": [
       "2384"
      ]
     },
     "execution_count": 27,
     "metadata": {},
     "output_type": "execute_result"
    }
   ],
   "source": [
    "len(dd_coor)"
   ]
  },
  {
   "cell_type": "code",
   "execution_count": 28,
   "metadata": {},
   "outputs": [],
   "source": [
    "norm_x = [x for x, y in coord]\n",
    "norm_y = [y for x, y in coord]"
   ]
  },
  {
   "cell_type": "code",
   "execution_count": 29,
   "metadata": {},
   "outputs": [],
   "source": [
    "daily = jeo[jeo['daily_double'] == 1].tail(2373).reset_index()"
   ]
  },
  {
   "cell_type": "code",
   "execution_count": 30,
   "metadata": {},
   "outputs": [],
   "source": [
    "normal = jeo[jeo['daily_double'] == 0].tail(17957).reset_index()"
   ]
  },
  {
   "cell_type": "code",
   "execution_count": 31,
   "metadata": {},
   "outputs": [],
   "source": [
    "daily = pd.concat([daily, dd[['X']], dd[['Y']]], axis = 1, sort = False)"
   ]
  },
  {
   "cell_type": "code",
   "execution_count": 32,
   "metadata": {},
   "outputs": [
    {
     "data": {
      "text/plain": [
       "2384"
      ]
     },
     "execution_count": 32,
     "metadata": {},
     "output_type": "execute_result"
    }
   ],
   "source": [
    "len(dd)"
   ]
  },
  {
   "cell_type": "code",
   "execution_count": 33,
   "metadata": {},
   "outputs": [
    {
     "data": {
      "text/html": [
       "<div>\n",
       "<style scoped>\n",
       "    .dataframe tbody tr th:only-of-type {\n",
       "        vertical-align: middle;\n",
       "    }\n",
       "\n",
       "    .dataframe tbody tr th {\n",
       "        vertical-align: top;\n",
       "    }\n",
       "\n",
       "    .dataframe thead th {\n",
       "        text-align: right;\n",
       "    }\n",
       "</style>\n",
       "<table border=\"1\" class=\"dataframe\">\n",
       "  <thead>\n",
       "    <tr style=\"text-align: right;\">\n",
       "      <th></th>\n",
       "      <th>index</th>\n",
       "      <th>round</th>\n",
       "      <th>value</th>\n",
       "      <th>daily_double</th>\n",
       "      <th>category</th>\n",
       "      <th>comments</th>\n",
       "      <th>answer</th>\n",
       "      <th>question</th>\n",
       "      <th>air_date</th>\n",
       "      <th>notes</th>\n",
       "      <th>X</th>\n",
       "      <th>Y</th>\n",
       "    </tr>\n",
       "  </thead>\n",
       "  <tbody>\n",
       "    <tr>\n",
       "      <th>0</th>\n",
       "      <td>304468.0</td>\n",
       "      <td>2.0</td>\n",
       "      <td>3800.0</td>\n",
       "      <td>1.0</td>\n",
       "      <td>WE'RE ON THE ROAD TO</td>\n",
       "      <td>-</td>\n",
       "      <td>...see the sights in this capital; we've left ...</td>\n",
       "      <td>Riyadh (Saudi Arabia)</td>\n",
       "      <td>2015-12-07</td>\n",
       "      <td>-</td>\n",
       "      <td>35.0</td>\n",
       "      <td>51.0</td>\n",
       "    </tr>\n",
       "    <tr>\n",
       "      <th>1</th>\n",
       "      <td>304490.0</td>\n",
       "      <td>2.0</td>\n",
       "      <td>3000.0</td>\n",
       "      <td>1.0</td>\n",
       "      <td>PULLING RANK</td>\n",
       "      <td>-</td>\n",
       "      <td>This prince &amp; would-be king ignored advisors &amp;...</td>\n",
       "      <td>Bonnie Prince Charlie</td>\n",
       "      <td>2015-12-07</td>\n",
       "      <td>-</td>\n",
       "      <td>35.0</td>\n",
       "      <td>50.0</td>\n",
       "    </tr>\n",
       "    <tr>\n",
       "      <th>2</th>\n",
       "      <td>304505.0</td>\n",
       "      <td>1.0</td>\n",
       "      <td>500.0</td>\n",
       "      <td>1.0</td>\n",
       "      <td>COUNTRIES' NATIONAL ANTHEMS</td>\n",
       "      <td>-</td>\n",
       "      <td>\\\"Himno Istmeño\", or \"Isthmus Hymn\\\"</td>\n",
       "      <td>Panama</td>\n",
       "      <td>2015-12-08</td>\n",
       "      <td>-</td>\n",
       "      <td>35.0</td>\n",
       "      <td>49.0</td>\n",
       "    </tr>\n",
       "    <tr>\n",
       "      <th>3</th>\n",
       "      <td>304525.0</td>\n",
       "      <td>2.0</td>\n",
       "      <td>3000.0</td>\n",
       "      <td>1.0</td>\n",
       "      <td>COLONIAL NEW ENGLAND</td>\n",
       "      <td>-</td>\n",
       "      <td>First formed to drive New York settlers out of...</td>\n",
       "      <td>the Green Mountain Boys</td>\n",
       "      <td>2015-12-08</td>\n",
       "      <td>-</td>\n",
       "      <td>35.0</td>\n",
       "      <td>48.0</td>\n",
       "    </tr>\n",
       "    <tr>\n",
       "      <th>4</th>\n",
       "      <td>304536.0</td>\n",
       "      <td>2.0</td>\n",
       "      <td>2000.0</td>\n",
       "      <td>1.0</td>\n",
       "      <td>PARLIAMENT VS. CONGRESS</td>\n",
       "      <td>-</td>\n",
       "      <td>It's the area from which you can watch politic...</td>\n",
       "      <td>the gallery</td>\n",
       "      <td>2015-12-08</td>\n",
       "      <td>-</td>\n",
       "      <td>35.0</td>\n",
       "      <td>47.0</td>\n",
       "    </tr>\n",
       "    <tr>\n",
       "      <th>...</th>\n",
       "      <td>...</td>\n",
       "      <td>...</td>\n",
       "      <td>...</td>\n",
       "      <td>...</td>\n",
       "      <td>...</td>\n",
       "      <td>...</td>\n",
       "      <td>...</td>\n",
       "      <td>...</td>\n",
       "      <td>...</td>\n",
       "      <td>...</td>\n",
       "      <td>...</td>\n",
       "      <td>...</td>\n",
       "    </tr>\n",
       "    <tr>\n",
       "      <th>2380</th>\n",
       "      <td>NaN</td>\n",
       "      <td>NaN</td>\n",
       "      <td>NaN</td>\n",
       "      <td>NaN</td>\n",
       "      <td>NaN</td>\n",
       "      <td>NaN</td>\n",
       "      <td>NaN</td>\n",
       "      <td>NaN</td>\n",
       "      <td>NaN</td>\n",
       "      <td>NaN</td>\n",
       "      <td>152.0</td>\n",
       "      <td>49.0</td>\n",
       "    </tr>\n",
       "    <tr>\n",
       "      <th>2381</th>\n",
       "      <td>NaN</td>\n",
       "      <td>NaN</td>\n",
       "      <td>NaN</td>\n",
       "      <td>NaN</td>\n",
       "      <td>NaN</td>\n",
       "      <td>NaN</td>\n",
       "      <td>NaN</td>\n",
       "      <td>NaN</td>\n",
       "      <td>NaN</td>\n",
       "      <td>NaN</td>\n",
       "      <td>152.0</td>\n",
       "      <td>48.0</td>\n",
       "    </tr>\n",
       "    <tr>\n",
       "      <th>2382</th>\n",
       "      <td>NaN</td>\n",
       "      <td>NaN</td>\n",
       "      <td>NaN</td>\n",
       "      <td>NaN</td>\n",
       "      <td>NaN</td>\n",
       "      <td>NaN</td>\n",
       "      <td>NaN</td>\n",
       "      <td>NaN</td>\n",
       "      <td>NaN</td>\n",
       "      <td>NaN</td>\n",
       "      <td>152.0</td>\n",
       "      <td>44.0</td>\n",
       "    </tr>\n",
       "    <tr>\n",
       "      <th>2383</th>\n",
       "      <td>NaN</td>\n",
       "      <td>NaN</td>\n",
       "      <td>NaN</td>\n",
       "      <td>NaN</td>\n",
       "      <td>NaN</td>\n",
       "      <td>NaN</td>\n",
       "      <td>NaN</td>\n",
       "      <td>NaN</td>\n",
       "      <td>NaN</td>\n",
       "      <td>NaN</td>\n",
       "      <td>152.0</td>\n",
       "      <td>43.0</td>\n",
       "    </tr>\n",
       "    <tr>\n",
       "      <th>2384</th>\n",
       "      <td>NaN</td>\n",
       "      <td>NaN</td>\n",
       "      <td>NaN</td>\n",
       "      <td>NaN</td>\n",
       "      <td>NaN</td>\n",
       "      <td>NaN</td>\n",
       "      <td>NaN</td>\n",
       "      <td>NaN</td>\n",
       "      <td>NaN</td>\n",
       "      <td>NaN</td>\n",
       "      <td>152.0</td>\n",
       "      <td>42.0</td>\n",
       "    </tr>\n",
       "  </tbody>\n",
       "</table>\n",
       "<p>2385 rows × 12 columns</p>\n",
       "</div>"
      ],
      "text/plain": [
       "         index  round   value  daily_double                     category  \\\n",
       "0     304468.0    2.0  3800.0           1.0         WE'RE ON THE ROAD TO   \n",
       "1     304490.0    2.0  3000.0           1.0                 PULLING RANK   \n",
       "2     304505.0    1.0   500.0           1.0  COUNTRIES' NATIONAL ANTHEMS   \n",
       "3     304525.0    2.0  3000.0           1.0         COLONIAL NEW ENGLAND   \n",
       "4     304536.0    2.0  2000.0           1.0      PARLIAMENT VS. CONGRESS   \n",
       "...        ...    ...     ...           ...                          ...   \n",
       "2380       NaN    NaN     NaN           NaN                          NaN   \n",
       "2381       NaN    NaN     NaN           NaN                          NaN   \n",
       "2382       NaN    NaN     NaN           NaN                          NaN   \n",
       "2383       NaN    NaN     NaN           NaN                          NaN   \n",
       "2384       NaN    NaN     NaN           NaN                          NaN   \n",
       "\n",
       "     comments                                             answer  \\\n",
       "0           -  ...see the sights in this capital; we've left ...   \n",
       "1           -  This prince & would-be king ignored advisors &...   \n",
       "2           -               \\\"Himno Istmeño\", or \"Isthmus Hymn\\\"   \n",
       "3           -  First formed to drive New York settlers out of...   \n",
       "4           -  It's the area from which you can watch politic...   \n",
       "...       ...                                                ...   \n",
       "2380      NaN                                                NaN   \n",
       "2381      NaN                                                NaN   \n",
       "2382      NaN                                                NaN   \n",
       "2383      NaN                                                NaN   \n",
       "2384      NaN                                                NaN   \n",
       "\n",
       "                     question    air_date notes      X     Y  \n",
       "0       Riyadh (Saudi Arabia)  2015-12-07     -   35.0  51.0  \n",
       "1       Bonnie Prince Charlie  2015-12-07     -   35.0  50.0  \n",
       "2                      Panama  2015-12-08     -   35.0  49.0  \n",
       "3     the Green Mountain Boys  2015-12-08     -   35.0  48.0  \n",
       "4                 the gallery  2015-12-08     -   35.0  47.0  \n",
       "...                       ...         ...   ...    ...   ...  \n",
       "2380                      NaN         NaN   NaN  152.0  49.0  \n",
       "2381                      NaN         NaN   NaN  152.0  48.0  \n",
       "2382                      NaN         NaN   NaN  152.0  44.0  \n",
       "2383                      NaN         NaN   NaN  152.0  43.0  \n",
       "2384                      NaN         NaN   NaN  152.0  42.0  \n",
       "\n",
       "[2385 rows x 12 columns]"
      ]
     },
     "execution_count": 33,
     "metadata": {},
     "output_type": "execute_result"
    }
   ],
   "source": [
    "daily"
   ]
  },
  {
   "cell_type": "code",
   "execution_count": 34,
   "metadata": {},
   "outputs": [],
   "source": [
    "normal['X'] = norm_x"
   ]
  },
  {
   "cell_type": "code",
   "execution_count": 35,
   "metadata": {},
   "outputs": [],
   "source": [
    "normal['Y'] = norm_y"
   ]
  },
  {
   "cell_type": "code",
   "execution_count": 36,
   "metadata": {},
   "outputs": [],
   "source": [
    "final = pd.concat([daily, normal], axis = 0)"
   ]
  },
  {
   "cell_type": "code",
   "execution_count": 37,
   "metadata": {},
   "outputs": [
    {
     "data": {
      "text/html": [
       "<div>\n",
       "<style scoped>\n",
       "    .dataframe tbody tr th:only-of-type {\n",
       "        vertical-align: middle;\n",
       "    }\n",
       "\n",
       "    .dataframe tbody tr th {\n",
       "        vertical-align: top;\n",
       "    }\n",
       "\n",
       "    .dataframe thead th {\n",
       "        text-align: right;\n",
       "    }\n",
       "</style>\n",
       "<table border=\"1\" class=\"dataframe\">\n",
       "  <thead>\n",
       "    <tr style=\"text-align: right;\">\n",
       "      <th></th>\n",
       "      <th>index</th>\n",
       "      <th>round</th>\n",
       "      <th>value</th>\n",
       "      <th>daily_double</th>\n",
       "      <th>category</th>\n",
       "      <th>comments</th>\n",
       "      <th>answer</th>\n",
       "      <th>question</th>\n",
       "      <th>air_date</th>\n",
       "      <th>notes</th>\n",
       "      <th>X</th>\n",
       "      <th>Y</th>\n",
       "    </tr>\n",
       "  </thead>\n",
       "  <tbody>\n",
       "    <tr>\n",
       "      <th>0</th>\n",
       "      <td>304468.0</td>\n",
       "      <td>2.0</td>\n",
       "      <td>3800.0</td>\n",
       "      <td>1.0</td>\n",
       "      <td>WE'RE ON THE ROAD TO</td>\n",
       "      <td>-</td>\n",
       "      <td>...see the sights in this capital; we've left ...</td>\n",
       "      <td>Riyadh (Saudi Arabia)</td>\n",
       "      <td>2015-12-07</td>\n",
       "      <td>-</td>\n",
       "      <td>35.0</td>\n",
       "      <td>51.0</td>\n",
       "    </tr>\n",
       "    <tr>\n",
       "      <th>1</th>\n",
       "      <td>304490.0</td>\n",
       "      <td>2.0</td>\n",
       "      <td>3000.0</td>\n",
       "      <td>1.0</td>\n",
       "      <td>PULLING RANK</td>\n",
       "      <td>-</td>\n",
       "      <td>This prince &amp; would-be king ignored advisors &amp;...</td>\n",
       "      <td>Bonnie Prince Charlie</td>\n",
       "      <td>2015-12-07</td>\n",
       "      <td>-</td>\n",
       "      <td>35.0</td>\n",
       "      <td>50.0</td>\n",
       "    </tr>\n",
       "    <tr>\n",
       "      <th>2</th>\n",
       "      <td>304505.0</td>\n",
       "      <td>1.0</td>\n",
       "      <td>500.0</td>\n",
       "      <td>1.0</td>\n",
       "      <td>COUNTRIES' NATIONAL ANTHEMS</td>\n",
       "      <td>-</td>\n",
       "      <td>\\\"Himno Istmeño\", or \"Isthmus Hymn\\\"</td>\n",
       "      <td>Panama</td>\n",
       "      <td>2015-12-08</td>\n",
       "      <td>-</td>\n",
       "      <td>35.0</td>\n",
       "      <td>49.0</td>\n",
       "    </tr>\n",
       "    <tr>\n",
       "      <th>3</th>\n",
       "      <td>304525.0</td>\n",
       "      <td>2.0</td>\n",
       "      <td>3000.0</td>\n",
       "      <td>1.0</td>\n",
       "      <td>COLONIAL NEW ENGLAND</td>\n",
       "      <td>-</td>\n",
       "      <td>First formed to drive New York settlers out of...</td>\n",
       "      <td>the Green Mountain Boys</td>\n",
       "      <td>2015-12-08</td>\n",
       "      <td>-</td>\n",
       "      <td>35.0</td>\n",
       "      <td>48.0</td>\n",
       "    </tr>\n",
       "    <tr>\n",
       "      <th>4</th>\n",
       "      <td>304536.0</td>\n",
       "      <td>2.0</td>\n",
       "      <td>2000.0</td>\n",
       "      <td>1.0</td>\n",
       "      <td>PARLIAMENT VS. CONGRESS</td>\n",
       "      <td>-</td>\n",
       "      <td>It's the area from which you can watch politic...</td>\n",
       "      <td>the gallery</td>\n",
       "      <td>2015-12-08</td>\n",
       "      <td>-</td>\n",
       "      <td>35.0</td>\n",
       "      <td>47.0</td>\n",
       "    </tr>\n",
       "    <tr>\n",
       "      <th>...</th>\n",
       "      <td>...</td>\n",
       "      <td>...</td>\n",
       "      <td>...</td>\n",
       "      <td>...</td>\n",
       "      <td>...</td>\n",
       "      <td>...</td>\n",
       "      <td>...</td>\n",
       "      <td>...</td>\n",
       "      <td>...</td>\n",
       "      <td>...</td>\n",
       "      <td>...</td>\n",
       "      <td>...</td>\n",
       "    </tr>\n",
       "    <tr>\n",
       "      <th>17952</th>\n",
       "      <td>349636.0</td>\n",
       "      <td>2.0</td>\n",
       "      <td>400.0</td>\n",
       "      <td>0.0</td>\n",
       "      <td>MAKE IT SNAPPY</td>\n",
       "      <td>-</td>\n",
       "      <td>As well as photosharing on this app, you can w...</td>\n",
       "      <td>Snapchat</td>\n",
       "      <td>2019-07-26</td>\n",
       "      <td>-</td>\n",
       "      <td>186.0</td>\n",
       "      <td>103.0</td>\n",
       "    </tr>\n",
       "    <tr>\n",
       "      <th>17953</th>\n",
       "      <td>349637.0</td>\n",
       "      <td>2.0</td>\n",
       "      <td>800.0</td>\n",
       "      <td>0.0</td>\n",
       "      <td>MAKE IT SNAPPY</td>\n",
       "      <td>-</td>\n",
       "      <td>Genus Antirrhinum, these flowers snap closed a...</td>\n",
       "      <td>snapdragons</td>\n",
       "      <td>2019-07-26</td>\n",
       "      <td>-</td>\n",
       "      <td>187.0</td>\n",
       "      <td>104.0</td>\n",
       "    </tr>\n",
       "    <tr>\n",
       "      <th>17954</th>\n",
       "      <td>349638.0</td>\n",
       "      <td>2.0</td>\n",
       "      <td>1600.0</td>\n",
       "      <td>0.0</td>\n",
       "      <td>MAKE IT SNAPPY</td>\n",
       "      <td>-</td>\n",
       "      <td>This hyphenated tool company owns brands like ...</td>\n",
       "      <td>Snap-On</td>\n",
       "      <td>2019-07-26</td>\n",
       "      <td>-</td>\n",
       "      <td>188.0</td>\n",
       "      <td>105.0</td>\n",
       "    </tr>\n",
       "    <tr>\n",
       "      <th>17955</th>\n",
       "      <td>349639.0</td>\n",
       "      <td>2.0</td>\n",
       "      <td>2000.0</td>\n",
       "      <td>0.0</td>\n",
       "      <td>MAKE IT SNAPPY</td>\n",
       "      <td>-</td>\n",
       "      <td>In 2019 meteorologist Daryl Ritchison at NDSU,...</td>\n",
       "      <td>North Dakota State University</td>\n",
       "      <td>2019-07-26</td>\n",
       "      <td>-</td>\n",
       "      <td>189.0</td>\n",
       "      <td>106.0</td>\n",
       "    </tr>\n",
       "    <tr>\n",
       "      <th>17956</th>\n",
       "      <td>349640.0</td>\n",
       "      <td>3.0</td>\n",
       "      <td>0.0</td>\n",
       "      <td>0.0</td>\n",
       "      <td>HISTORIC SHIPS</td>\n",
       "      <td>-</td>\n",
       "      <td>215 passengers were rescued when it sank in Ju...</td>\n",
       "      <td>the Carpathia</td>\n",
       "      <td>2019-07-26</td>\n",
       "      <td>-</td>\n",
       "      <td>190.0</td>\n",
       "      <td>107.0</td>\n",
       "    </tr>\n",
       "  </tbody>\n",
       "</table>\n",
       "<p>20342 rows × 12 columns</p>\n",
       "</div>"
      ],
      "text/plain": [
       "          index  round   value  daily_double                     category  \\\n",
       "0      304468.0    2.0  3800.0           1.0         WE'RE ON THE ROAD TO   \n",
       "1      304490.0    2.0  3000.0           1.0                 PULLING RANK   \n",
       "2      304505.0    1.0   500.0           1.0  COUNTRIES' NATIONAL ANTHEMS   \n",
       "3      304525.0    2.0  3000.0           1.0         COLONIAL NEW ENGLAND   \n",
       "4      304536.0    2.0  2000.0           1.0      PARLIAMENT VS. CONGRESS   \n",
       "...         ...    ...     ...           ...                          ...   \n",
       "17952  349636.0    2.0   400.0           0.0               MAKE IT SNAPPY   \n",
       "17953  349637.0    2.0   800.0           0.0               MAKE IT SNAPPY   \n",
       "17954  349638.0    2.0  1600.0           0.0               MAKE IT SNAPPY   \n",
       "17955  349639.0    2.0  2000.0           0.0               MAKE IT SNAPPY   \n",
       "17956  349640.0    3.0     0.0           0.0               HISTORIC SHIPS   \n",
       "\n",
       "      comments                                             answer  \\\n",
       "0            -  ...see the sights in this capital; we've left ...   \n",
       "1            -  This prince & would-be king ignored advisors &...   \n",
       "2            -               \\\"Himno Istmeño\", or \"Isthmus Hymn\\\"   \n",
       "3            -  First formed to drive New York settlers out of...   \n",
       "4            -  It's the area from which you can watch politic...   \n",
       "...        ...                                                ...   \n",
       "17952        -  As well as photosharing on this app, you can w...   \n",
       "17953        -  Genus Antirrhinum, these flowers snap closed a...   \n",
       "17954        -  This hyphenated tool company owns brands like ...   \n",
       "17955        -  In 2019 meteorologist Daryl Ritchison at NDSU,...   \n",
       "17956        -  215 passengers were rescued when it sank in Ju...   \n",
       "\n",
       "                            question    air_date notes      X      Y  \n",
       "0              Riyadh (Saudi Arabia)  2015-12-07     -   35.0   51.0  \n",
       "1              Bonnie Prince Charlie  2015-12-07     -   35.0   50.0  \n",
       "2                             Panama  2015-12-08     -   35.0   49.0  \n",
       "3            the Green Mountain Boys  2015-12-08     -   35.0   48.0  \n",
       "4                        the gallery  2015-12-08     -   35.0   47.0  \n",
       "...                              ...         ...   ...    ...    ...  \n",
       "17952                       Snapchat  2019-07-26     -  186.0  103.0  \n",
       "17953                    snapdragons  2019-07-26     -  187.0  104.0  \n",
       "17954                        Snap-On  2019-07-26     -  188.0  105.0  \n",
       "17955  North Dakota State University  2019-07-26     -  189.0  106.0  \n",
       "17956                  the Carpathia  2019-07-26     -  190.0  107.0  \n",
       "\n",
       "[20342 rows x 12 columns]"
      ]
     },
     "execution_count": 37,
     "metadata": {},
     "output_type": "execute_result"
    }
   ],
   "source": [
    "final"
   ]
  },
  {
   "cell_type": "code",
   "execution_count": 38,
   "metadata": {},
   "outputs": [
    {
     "data": {
      "text/plain": [
       "index           12\n",
       "round           12\n",
       "value           12\n",
       "daily_double    12\n",
       "category        12\n",
       "comments        12\n",
       "answer          12\n",
       "question        12\n",
       "air_date        12\n",
       "notes           12\n",
       "X                1\n",
       "Y                1\n",
       "dtype: int64"
      ]
     },
     "execution_count": 38,
     "metadata": {},
     "output_type": "execute_result"
    }
   ],
   "source": [
    "final.isna().sum()"
   ]
  },
  {
   "cell_type": "code",
   "execution_count": 39,
   "metadata": {},
   "outputs": [],
   "source": [
    "final.dropna(inplace = True)"
   ]
  },
  {
   "cell_type": "code",
   "execution_count": 40,
   "metadata": {},
   "outputs": [],
   "source": [
    "final.to_csv('./data/final_coord.csv', index=False)"
   ]
  },
  {
   "cell_type": "code",
   "execution_count": null,
   "metadata": {},
   "outputs": [],
   "source": []
  }
 ],
 "metadata": {
  "kernelspec": {
   "display_name": "Python 3",
   "language": "python",
   "name": "python3"
  },
  "language_info": {
   "codemirror_mode": {
    "name": "ipython",
    "version": 3
   },
   "file_extension": ".py",
   "mimetype": "text/x-python",
   "name": "python",
   "nbconvert_exporter": "python",
   "pygments_lexer": "ipython3",
   "version": "3.7.6"
  }
 },
 "nbformat": 4,
 "nbformat_minor": 4
}
