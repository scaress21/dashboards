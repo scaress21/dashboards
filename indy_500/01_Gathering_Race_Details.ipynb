{
 "cells": [
  {
   "cell_type": "markdown",
   "metadata": {},
   "source": [
    "## Gathering Race Stats\n",
    "Overall racing stats from [Racing Reference](https://www.racing-reference.info/indy500.htm)."
   ]
  },
  {
   "cell_type": "code",
   "execution_count": 1,
   "metadata": {},
   "outputs": [],
   "source": [
    "import pandas as pd\n",
    "import numpy as np\n",
    "import requests\n",
    "import time\n",
    "from bs4 import BeautifulSoup"
   ]
  },
  {
   "cell_type": "code",
   "execution_count": 2,
   "metadata": {},
   "outputs": [],
   "source": [
    "res = requests.get('https://www.racing-reference.info/indy500.htm')\n",
    "soup = BeautifulSoup(res.text, 'lxml')\n",
    "links = soup.find_all('a')\n",
    "\n",
    "years = []\n",
    "for link in links:\n",
    "    try:\n",
    "        if int(link.text):\n",
    "            href = link.attrs['href']\n",
    "            years.append(href)\n",
    "    except:\n",
    "        pass"
   ]
  },
  {
   "cell_type": "code",
   "execution_count": 3,
   "metadata": {},
   "outputs": [],
   "source": [
    "def get_stats(year):\n",
    "    url = f'https://www.racing-reference.info{year}'\n",
    "    res = requests.get(url)\n",
    "    soup = BeautifulSoup(res.text, 'lxml')\n",
    "    date = soup.find('title').text[0:10]\n",
    "    \n",
    "    stats = soup.find_all('table')[4].text\n",
    "    stat_list = [stats.split('\\n')[1:-1][x].split(': ') for x in range(len(stats.split('\\n')[1:-1]))]\n",
    "    stat_list.pop(3)\n",
    "    \n",
    "    stat_list = {x:y for (x, y) in stat_list}\n",
    "    stat_list['date'] = date\n",
    "    \n",
    "    return stat_list"
   ]
  },
  {
   "cell_type": "code",
   "execution_count": 4,
   "metadata": {},
   "outputs": [
    {
     "data": {
      "text/plain": [
       "{'Time of race': '2:50:39',\n",
       " 'Average speed': '175.794 mph',\n",
       " 'Pole speed': '229.992 mph',\n",
       " 'Cautions': '4 for 29 laps',\n",
       " 'Margin of victory': '.209 sec',\n",
       " 'Attendance': 'n/a',\n",
       " 'Lead changes': '29',\n",
       " 'date': '05/26/2019'}"
      ]
     },
     "execution_count": 4,
     "metadata": {},
     "output_type": "execute_result"
    }
   ],
   "source": [
    "get_stats('/race/2019-06/O')"
   ]
  },
  {
   "cell_type": "code",
   "execution_count": 5,
   "metadata": {
    "scrolled": true
   },
   "outputs": [],
   "source": [
    "all_races = []\n",
    "for year in years:\n",
    "    df = get_stats(year)\n",
    "    all_races.append(df)\n",
    "    \n",
    "    time.sleep(11)"
   ]
  },
  {
   "cell_type": "code",
   "execution_count": 6,
   "metadata": {},
   "outputs": [],
   "source": [
    "stats = pd.DataFrame(all_races)"
   ]
  },
  {
   "cell_type": "code",
   "execution_count": 7,
   "metadata": {},
   "outputs": [
    {
     "data": {
      "text/html": [
       "<div>\n",
       "<style scoped>\n",
       "    .dataframe tbody tr th:only-of-type {\n",
       "        vertical-align: middle;\n",
       "    }\n",
       "\n",
       "    .dataframe tbody tr th {\n",
       "        vertical-align: top;\n",
       "    }\n",
       "\n",
       "    .dataframe thead th {\n",
       "        text-align: right;\n",
       "    }\n",
       "</style>\n",
       "<table border=\"1\" class=\"dataframe\">\n",
       "  <thead>\n",
       "    <tr style=\"text-align: right;\">\n",
       "      <th></th>\n",
       "      <th>Time of race</th>\n",
       "      <th>Average speed</th>\n",
       "      <th>Pole speed</th>\n",
       "      <th>Cautions</th>\n",
       "      <th>Margin of victory</th>\n",
       "      <th>Attendance</th>\n",
       "      <th>Lead changes</th>\n",
       "      <th>date</th>\n",
       "      <th>Pole time</th>\n",
       "    </tr>\n",
       "  </thead>\n",
       "  <tbody>\n",
       "    <tr>\n",
       "      <th>0</th>\n",
       "      <td>2:50:39</td>\n",
       "      <td>175.794 mph</td>\n",
       "      <td>229.992 mph</td>\n",
       "      <td>4 for 29 laps</td>\n",
       "      <td>.209 sec</td>\n",
       "      <td>n/a</td>\n",
       "      <td>29</td>\n",
       "      <td>05/26/2019</td>\n",
       "      <td>NaN</td>\n",
       "    </tr>\n",
       "    <tr>\n",
       "      <th>1</th>\n",
       "      <td>2:59:43</td>\n",
       "      <td>166.935 mph</td>\n",
       "      <td>229.618 mph</td>\n",
       "      <td>7 for 41 laps</td>\n",
       "      <td>3.159 sec</td>\n",
       "      <td>n/a</td>\n",
       "      <td>30</td>\n",
       "      <td>05/27/2018</td>\n",
       "      <td>NaN</td>\n",
       "    </tr>\n",
       "    <tr>\n",
       "      <th>2</th>\n",
       "      <td>3:13:03</td>\n",
       "      <td>155.395 mph</td>\n",
       "      <td>232.164 mph</td>\n",
       "      <td>10 for 50 laps</td>\n",
       "      <td>.201 sec</td>\n",
       "      <td>n/a</td>\n",
       "      <td>35</td>\n",
       "      <td>05/28/2017</td>\n",
       "      <td>NaN</td>\n",
       "    </tr>\n",
       "    <tr>\n",
       "      <th>3</th>\n",
       "      <td>3:00:02</td>\n",
       "      <td>166.634 mph</td>\n",
       "      <td>230.76 mph</td>\n",
       "      <td>6 for 46 laps</td>\n",
       "      <td>4.498 sec</td>\n",
       "      <td>n/a</td>\n",
       "      <td>54</td>\n",
       "      <td>05/29/2016</td>\n",
       "      <td>NaN</td>\n",
       "    </tr>\n",
       "    <tr>\n",
       "      <th>4</th>\n",
       "      <td>3:05:57</td>\n",
       "      <td>161.341 mph</td>\n",
       "      <td>226.76 mph</td>\n",
       "      <td>6 for 47 laps</td>\n",
       "      <td>.105 sec</td>\n",
       "      <td>n/a</td>\n",
       "      <td>37</td>\n",
       "      <td>05/24/2015</td>\n",
       "      <td>NaN</td>\n",
       "    </tr>\n",
       "  </tbody>\n",
       "</table>\n",
       "</div>"
      ],
      "text/plain": [
       "  Time of race Average speed   Pole speed        Cautions Margin of victory  \\\n",
       "0      2:50:39   175.794 mph  229.992 mph   4 for 29 laps          .209 sec   \n",
       "1      2:59:43   166.935 mph  229.618 mph   7 for 41 laps         3.159 sec   \n",
       "2      3:13:03   155.395 mph  232.164 mph  10 for 50 laps          .201 sec   \n",
       "3      3:00:02   166.634 mph   230.76 mph   6 for 46 laps         4.498 sec   \n",
       "4      3:05:57   161.341 mph   226.76 mph   6 for 47 laps          .105 sec   \n",
       "\n",
       "  Attendance Lead changes        date Pole time  \n",
       "0        n/a           29  05/26/2019       NaN  \n",
       "1        n/a           30  05/27/2018       NaN  \n",
       "2        n/a           35  05/28/2017       NaN  \n",
       "3        n/a           54  05/29/2016       NaN  \n",
       "4        n/a           37  05/24/2015       NaN  "
      ]
     },
     "execution_count": 7,
     "metadata": {},
     "output_type": "execute_result"
    }
   ],
   "source": [
    "stats.head()"
   ]
  },
  {
   "cell_type": "code",
   "execution_count": 8,
   "metadata": {},
   "outputs": [
    {
     "data": {
      "text/plain": [
       "(103, 9)"
      ]
     },
     "execution_count": 8,
     "metadata": {},
     "output_type": "execute_result"
    }
   ],
   "source": [
    "stats.shape"
   ]
  },
  {
   "cell_type": "code",
   "execution_count": 9,
   "metadata": {},
   "outputs": [],
   "source": [
    "stats.to_csv('./race_stats.csv', index = False)"
   ]
  }
 ],
 "metadata": {
  "kernelspec": {
   "display_name": "Python 3",
   "language": "python",
   "name": "python3"
  },
  "language_info": {
   "codemirror_mode": {
    "name": "ipython",
    "version": 3
   },
   "file_extension": ".py",
   "mimetype": "text/x-python",
   "name": "python",
   "nbconvert_exporter": "python",
   "pygments_lexer": "ipython3",
   "version": "3.7.6"
  }
 },
 "nbformat": 4,
 "nbformat_minor": 4
}
