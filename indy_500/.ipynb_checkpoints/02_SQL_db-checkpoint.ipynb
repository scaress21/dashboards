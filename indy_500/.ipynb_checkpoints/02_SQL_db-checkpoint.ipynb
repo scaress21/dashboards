{
 "cells": [
  {
   "cell_type": "markdown",
   "metadata": {},
   "source": [
    "## Cleaning & Setting Up SQL Tables"
   ]
  },
  {
   "cell_type": "code",
   "execution_count": null,
   "metadata": {},
   "outputs": [],
   "source": [
    "import pandas as pd\n",
    "import numpy as np\n",
    "import sqlalchemy as db"
   ]
  },
  {
   "cell_type": "code",
   "execution_count": null,
   "metadata": {},
   "outputs": [],
   "source": [
    "races = pd.read_csv('./race_stats.csv')"
   ]
  },
  {
   "cell_type": "code",
   "execution_count": null,
   "metadata": {},
   "outputs": [],
   "source": [
    "drivers = pd.read_csv('./races.csv')"
   ]
  },
  {
   "cell_type": "code",
   "execution_count": null,
   "metadata": {},
   "outputs": [],
   "source": [
    "races.tail()"
   ]
  },
  {
   "cell_type": "code",
   "execution_count": null,
   "metadata": {},
   "outputs": [],
   "source": [
    "new_col = [string.lower().replace(' ', '_') for string in races.columns]\n",
    "\n",
    "names = dict(zip(races.columns, new_col))\n",
    "\n",
    "races = races.rename(columns = names)"
   ]
  },
  {
   "cell_type": "code",
   "execution_count": null,
   "metadata": {},
   "outputs": [],
   "source": [
    "races = races[['time_of_race', 'average_speed', 'margin_of_victory', 'lead_changes', 'date']]\n",
    "\n",
    "races['year'] = [int(date[-4:]) for date in races['date']]\n",
    "\n",
    "years = list(reversed(list(races['year'])))\n",
    "\n",
    "race_dict = {y:x for (x,y) in enumerate(years, 1)}"
   ]
  },
  {
   "cell_type": "code",
   "execution_count": null,
   "metadata": {},
   "outputs": [],
   "source": [
    "races = races.dropna()"
   ]
  },
  {
   "cell_type": "code",
   "execution_count": null,
   "metadata": {},
   "outputs": [],
   "source": [
    "races['id'] = races['year'].map(race_dict)"
   ]
  },
  {
   "cell_type": "code",
   "execution_count": null,
   "metadata": {},
   "outputs": [],
   "source": [
    "drivers['race_id'] = drivers['year'].map(race_dict)"
   ]
  },
  {
   "cell_type": "code",
   "execution_count": null,
   "metadata": {},
   "outputs": [],
   "source": [
    "drivers.tail()"
   ]
  },
  {
   "cell_type": "code",
   "execution_count": null,
   "metadata": {},
   "outputs": [],
   "source": [
    "def to_num(number):\n",
    "    new = int(number.replace('$', '').replace(',', ''))\n",
    "    return new"
   ]
  },
  {
   "cell_type": "code",
   "execution_count": null,
   "metadata": {},
   "outputs": [],
   "source": [
    "drivers['winnings'] = drivers['winnings'].apply(to_num)"
   ]
  },
  {
   "cell_type": "code",
   "execution_count": null,
   "metadata": {},
   "outputs": [],
   "source": [
    "drivers.describe()"
   ]
  },
  {
   "cell_type": "markdown",
   "metadata": {},
   "source": [
    "#### SQL Connection"
   ]
  },
  {
   "cell_type": "code",
   "execution_count": null,
   "metadata": {},
   "outputs": [],
   "source": [
    "from creds import uri"
   ]
  },
  {
   "cell_type": "code",
   "execution_count": null,
   "metadata": {},
   "outputs": [],
   "source": [
    "engine = db.create_engine(uri)\n",
    "connection = engine.connect()\n",
    "metadata = db.MetaData()"
   ]
  },
  {
   "cell_type": "markdown",
   "metadata": {},
   "source": [
    "#### Table 1: Races"
   ]
  },
  {
   "cell_type": "code",
   "execution_count": null,
   "metadata": {},
   "outputs": [],
   "source": [
    "#Help with this section from LA Flex, Dan Kim example\n",
    "columns_to_add = ''\n",
    "\n",
    "for name, datatype in zip(races.columns, list(races.dtypes.values)): \n",
    "    if datatype == int:\n",
    "        columns_to_add += f'{name} INT, '\n",
    "    elif datatype == object:\n",
    "        columns_to_add += f'{name} TEXT, '\n",
    "    elif datatype == float:\n",
    "        columns_to_add += f'{name} FLOAT, '\n",
    "\n",
    "columns_to_add = \"(\" + columns_to_add.strip(', ') + \")\"\n",
    "columns_to_add"
   ]
  },
  {
   "cell_type": "code",
   "execution_count": null,
   "metadata": {},
   "outputs": [],
   "source": [
    "query = f'CREATE TABLE races {columns_to_add}'\n",
    "#connection.execute(query) "
   ]
  },
  {
   "cell_type": "code",
   "execution_count": null,
   "metadata": {},
   "outputs": [],
   "source": [
    "values_to_add = []\n",
    "\n",
    "for row in range(len(races)):\n",
    "    values_to_add.append(tuple(races.loc[row].values))"
   ]
  },
  {
   "cell_type": "code",
   "execution_count": null,
   "metadata": {},
   "outputs": [],
   "source": [
    "for values in values_to_add:\n",
    "    query = f'INSERT INTO races VALUES {str(values)}'\n",
    "    connection.execute(query)"
   ]
  },
  {
   "cell_type": "markdown",
   "metadata": {},
   "source": [
    "#### Table 2: Drivers"
   ]
  },
  {
   "cell_type": "code",
   "execution_count": null,
   "metadata": {},
   "outputs": [],
   "source": [
    "drivers = drivers.rename(columns = {'car_name/entrant' : 'car_name'})"
   ]
  },
  {
   "cell_type": "code",
   "execution_count": null,
   "metadata": {},
   "outputs": [],
   "source": [
    "#Help with this section from LA Flex, Dan Kim example\n",
    "columns_to_add = ''\n",
    "\n",
    "for name, datatype in zip(drivers.columns, list(drivers.dtypes.values)): \n",
    "    if datatype == int:\n",
    "        columns_to_add += f'{name} INT, '\n",
    "    elif datatype == object:\n",
    "        columns_to_add += f'{name} TEXT, '\n",
    "    elif datatype == float:\n",
    "        columns_to_add += f'{name} FLOAT, '\n",
    "\n",
    "columns_to_add = \"(\" + columns_to_add.strip(', ') + \")\"\n",
    "columns_to_add"
   ]
  },
  {
   "cell_type": "code",
   "execution_count": null,
   "metadata": {},
   "outputs": [],
   "source": [
    "query = f'CREATE TABLE drivers {columns_to_add}'\n",
    "#connection.execute(query) "
   ]
  },
  {
   "cell_type": "code",
   "execution_count": null,
   "metadata": {},
   "outputs": [],
   "source": [
    "def add_esc(name):\n",
    "    return name.replace('\\'', '_')"
   ]
  },
  {
   "cell_type": "code",
   "execution_count": null,
   "metadata": {},
   "outputs": [],
   "source": [
    "add_esc(\"Eddie O'Donnell\")"
   ]
  },
  {
   "cell_type": "code",
   "execution_count": null,
   "metadata": {},
   "outputs": [],
   "source": [
    "drivers['driver'] = drivers['driver'].apply(add_esc)\n",
    "drivers['car_name'] = drivers['car_name'].apply(add_esc)"
   ]
  },
  {
   "cell_type": "code",
   "execution_count": null,
   "metadata": {},
   "outputs": [],
   "source": [
    "values_to_add = []\n",
    "\n",
    "for row in range(len(drivers)):\n",
    "    values_to_add.append(tuple(drivers.loc[row].values))"
   ]
  },
  {
   "cell_type": "code",
   "execution_count": null,
   "metadata": {},
   "outputs": [],
   "source": [
    "for values in values_to_add:\n",
    "    query = f'INSERT INTO drivers VALUES {str(values)}'\n",
    "    connection.execute(query)"
   ]
  },
  {
   "cell_type": "code",
   "execution_count": null,
   "metadata": {},
   "outputs": [],
   "source": [
    "len(drivers) + len(races)"
   ]
  }
 ],
 "metadata": {
  "kernelspec": {
   "display_name": "Python 3",
   "language": "python",
   "name": "python3"
  },
  "language_info": {
   "codemirror_mode": {
    "name": "ipython",
    "version": 3
   },
   "file_extension": ".py",
   "mimetype": "text/x-python",
   "name": "python",
   "nbconvert_exporter": "python",
   "pygments_lexer": "ipython3",
   "version": "3.7.6"
  }
 },
 "nbformat": 4,
 "nbformat_minor": 4
}
