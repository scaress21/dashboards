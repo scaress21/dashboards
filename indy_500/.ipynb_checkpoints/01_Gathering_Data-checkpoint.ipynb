{
 "cells": [
  {
   "cell_type": "markdown",
   "metadata": {},
   "source": [
    "## Indy 500 Race Statistics\n",
    "\n",
    "Data scraped from the Indianapolis Motor Speedway [website](https://www.indianapolismotorspeedway.com/events/indy500/history/historical-stats/race-stats/)."
   ]
  },
  {
   "cell_type": "code",
   "execution_count": 1,
   "metadata": {},
   "outputs": [],
   "source": [
    "import requests\n",
    "import pandas as pd\n",
    "import numpy as np\n",
    "from bs4 import BeautifulSoup\n",
    "import time"
   ]
  },
  {
   "cell_type": "code",
   "execution_count": 2,
   "metadata": {},
   "outputs": [],
   "source": [
    "years = [x for x in range(1911, 2020)]"
   ]
  },
  {
   "cell_type": "code",
   "execution_count": 3,
   "metadata": {},
   "outputs": [],
   "source": [
    "def get_race(year):\n",
    "    \n",
    "    #Base url with a variable of year\n",
    "    url = f'https://www.indianapolismotorspeedway.com/events/indy500/history/historical-stats/race-stats/race-results/{year}'\n",
    "    res = requests.get(url)\n",
    "    \n",
    "    #if the request works (some years there was no race) gather the data\n",
    "    if res.status_code == 200:\n",
    "        soup = BeautifulSoup(res.text, 'lxml')\n",
    "        data = [x.text for x in soup.find_all('td')[1:]]\n",
    "        \n",
    "        races = []\n",
    "        base = 0\n",
    "        for n in range(int(len(data)/10)):\n",
    "            race = {\n",
    "                'finish': data[base+0],\n",
    "                'start': data[base+1],\n",
    "                'car_number': data[base+2],\n",
    "                'driver': data[base+3],\n",
    "                'car_name/entrant': data[base+4],\n",
    "                'make_model': data[base+5],\n",
    "                'status': data[base+6],\n",
    "                'laps': data[base+7],\n",
    "                'LED': data[base+8],\n",
    "                'winnings': data[base+9],\n",
    "                'year': year\n",
    "            }\n",
    "            base += 10\n",
    "            races.append(race)\n",
    "    return pd.DataFrame(races)"
   ]
  },
  {
   "cell_type": "code",
   "execution_count": null,
   "metadata": {},
   "outputs": [],
   "source": [
    "all_races = []\n",
    "\n",
    "#For every year 1911-2019, try to gather the data\n",
    "for year in years:\n",
    "    try:\n",
    "        df = get_race(year)\n",
    "        \n",
    "        #Add data to the list\n",
    "        all_races.append(df)\n",
    "    except:\n",
    "        pass\n",
    "    \n",
    "    time.sleep(2)"
   ]
  },
  {
   "cell_type": "code",
   "execution_count": null,
   "metadata": {},
   "outputs": [],
   "source": []
  }
 ],
 "metadata": {
  "kernelspec": {
   "display_name": "Python 3",
   "language": "python",
   "name": "python3"
  },
  "language_info": {
   "codemirror_mode": {
    "name": "ipython",
    "version": 3
   },
   "file_extension": ".py",
   "mimetype": "text/x-python",
   "name": "python",
   "nbconvert_exporter": "python",
   "pygments_lexer": "ipython3",
   "version": "3.7.6"
  }
 },
 "nbformat": 4,
 "nbformat_minor": 4
}
