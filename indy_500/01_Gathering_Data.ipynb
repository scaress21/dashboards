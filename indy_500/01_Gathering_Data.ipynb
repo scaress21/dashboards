{
 "cells": [
  {
   "cell_type": "markdown",
   "metadata": {},
   "source": [
    "## Indy 500 Race Statistics\n",
    "\n",
    "Data scraped from the Indianapolis Motor Speedway [website](https://www.indianapolismotorspeedway.com/events/indy500/history/historical-stats/race-stats/)."
   ]
  },
  {
   "cell_type": "code",
   "execution_count": 1,
   "metadata": {},
   "outputs": [],
   "source": [
    "import requests\n",
    "import pandas as pd\n",
    "import numpy as np\n",
    "from bs4 import BeautifulSoup\n",
    "import time"
   ]
  },
  {
   "cell_type": "code",
   "execution_count": 2,
   "metadata": {},
   "outputs": [],
   "source": [
    "years = [x for x in range(1911, 2020)]"
   ]
  },
  {
   "cell_type": "code",
   "execution_count": 3,
   "metadata": {},
   "outputs": [],
   "source": [
    "def get_race(year):\n",
    "    \n",
    "    #Base url with a variable of year\n",
    "    url = f'https://www.indianapolismotorspeedway.com/events/indy500/history/historical-stats/race-stats/race-results/{year}'\n",
    "    res = requests.get(url)\n",
    "    \n",
    "    #if the request works (some years there was no race) gather the data\n",
    "    if res.status_code == 200:\n",
    "        soup = BeautifulSoup(res.text, 'lxml')\n",
    "        data = [x.text for x in soup.find_all('td')[1:]]\n",
    "        \n",
    "        races = []\n",
    "        base = 0\n",
    "        for n in range(int(len(data)/10)):\n",
    "            race = {\n",
    "                'finish': data[base+0],\n",
    "                'start': data[base+1],\n",
    "                'car_number': data[base+2],\n",
    "                'driver': data[base+3],\n",
    "                'car_name/entrant': data[base+4],\n",
    "                'make_model': data[base+5],\n",
    "                'status': data[base+6],\n",
    "                'laps': data[base+7],\n",
    "                'LED': data[base+8],\n",
    "                'winnings': data[base+9],\n",
    "                'year': year\n",
    "            }\n",
    "            base += 10\n",
    "            races.append(race)\n",
    "    return pd.DataFrame(races)"
   ]
  },
  {
   "cell_type": "code",
   "execution_count": 4,
   "metadata": {},
   "outputs": [],
   "source": [
    "all_races = []\n",
    "\n",
    "#For every year 1911-2019, try to gather the data\n",
    "for year in years:\n",
    "    try:\n",
    "        df = get_race(year)\n",
    "        \n",
    "        #Add data to the list\n",
    "        all_races.append(df)\n",
    "    except:\n",
    "        pass\n",
    "    \n",
    "    time.sleep(2)"
   ]
  },
  {
   "cell_type": "code",
   "execution_count": 5,
   "metadata": {},
   "outputs": [],
   "source": [
    "indy = pd.concat(all_races, axis = 0)"
   ]
  },
  {
   "cell_type": "code",
   "execution_count": 6,
   "metadata": {},
   "outputs": [
    {
     "data": {
      "text/html": [
       "<div>\n",
       "<style scoped>\n",
       "    .dataframe tbody tr th:only-of-type {\n",
       "        vertical-align: middle;\n",
       "    }\n",
       "\n",
       "    .dataframe tbody tr th {\n",
       "        vertical-align: top;\n",
       "    }\n",
       "\n",
       "    .dataframe thead th {\n",
       "        text-align: right;\n",
       "    }\n",
       "</style>\n",
       "<table border=\"1\" class=\"dataframe\">\n",
       "  <thead>\n",
       "    <tr style=\"text-align: right;\">\n",
       "      <th></th>\n",
       "      <th>finish</th>\n",
       "      <th>start</th>\n",
       "      <th>car_number</th>\n",
       "      <th>driver</th>\n",
       "      <th>car_name/entrant</th>\n",
       "      <th>make_model</th>\n",
       "      <th>status</th>\n",
       "      <th>laps</th>\n",
       "      <th>LED</th>\n",
       "      <th>winnings</th>\n",
       "      <th>year</th>\n",
       "    </tr>\n",
       "  </thead>\n",
       "  <tbody>\n",
       "    <tr>\n",
       "      <th>0</th>\n",
       "      <td>1</td>\n",
       "      <td>28</td>\n",
       "      <td>32</td>\n",
       "      <td>Ray Harroun</td>\n",
       "      <td>Marmon \"Wasp\"</td>\n",
       "      <td>Marmon/Marmon</td>\n",
       "      <td>74.602</td>\n",
       "      <td>200</td>\n",
       "      <td>88</td>\n",
       "      <td>$14,250</td>\n",
       "      <td>1911</td>\n",
       "    </tr>\n",
       "    <tr>\n",
       "      <th>1</th>\n",
       "      <td>2</td>\n",
       "      <td>29</td>\n",
       "      <td>33</td>\n",
       "      <td>Ralph Mulford</td>\n",
       "      <td>Lozier</td>\n",
       "      <td>Lozier/Lozier</td>\n",
       "      <td>74.285</td>\n",
       "      <td>200</td>\n",
       "      <td>10</td>\n",
       "      <td>$5,200</td>\n",
       "      <td>1911</td>\n",
       "    </tr>\n",
       "    <tr>\n",
       "      <th>2</th>\n",
       "      <td>3</td>\n",
       "      <td>25</td>\n",
       "      <td>28</td>\n",
       "      <td>David Bruce-Brown</td>\n",
       "      <td>Fiat</td>\n",
       "      <td>Fiat/Fiat</td>\n",
       "      <td>72.73</td>\n",
       "      <td>200</td>\n",
       "      <td>81</td>\n",
       "      <td>$3,250</td>\n",
       "      <td>1911</td>\n",
       "    </tr>\n",
       "    <tr>\n",
       "      <th>3</th>\n",
       "      <td>4</td>\n",
       "      <td>11</td>\n",
       "      <td>11</td>\n",
       "      <td>Spencer Wishart</td>\n",
       "      <td>Mercedes</td>\n",
       "      <td>Mercedes/Mercedes</td>\n",
       "      <td>72.648</td>\n",
       "      <td>200</td>\n",
       "      <td>5</td>\n",
       "      <td>$2,350</td>\n",
       "      <td>1911</td>\n",
       "    </tr>\n",
       "    <tr>\n",
       "      <th>4</th>\n",
       "      <td>5</td>\n",
       "      <td>27</td>\n",
       "      <td>31</td>\n",
       "      <td>Joe Dawson</td>\n",
       "      <td>Marmon</td>\n",
       "      <td>Marmon/Marmon</td>\n",
       "      <td>72.365</td>\n",
       "      <td>200</td>\n",
       "      <td>0</td>\n",
       "      <td>$1,500</td>\n",
       "      <td>1911</td>\n",
       "    </tr>\n",
       "  </tbody>\n",
       "</table>\n",
       "</div>"
      ],
      "text/plain": [
       "  finish start car_number             driver car_name/entrant  \\\n",
       "0      1    28         32        Ray Harroun    Marmon \"Wasp\"   \n",
       "1      2    29         33      Ralph Mulford           Lozier   \n",
       "2      3    25         28  David Bruce-Brown             Fiat   \n",
       "3      4    11         11    Spencer Wishart         Mercedes   \n",
       "4      5    27         31         Joe Dawson           Marmon   \n",
       "\n",
       "          make_model  status laps LED winnings  year  \n",
       "0      Marmon/Marmon  74.602  200  88  $14,250  1911  \n",
       "1      Lozier/Lozier  74.285  200  10   $5,200  1911  \n",
       "2          Fiat/Fiat   72.73  200  81   $3,250  1911  \n",
       "3  Mercedes/Mercedes  72.648  200   5   $2,350  1911  \n",
       "4      Marmon/Marmon  72.365  200   0   $1,500  1911  "
      ]
     },
     "execution_count": 6,
     "metadata": {},
     "output_type": "execute_result"
    }
   ],
   "source": [
    "indy.head()"
   ]
  },
  {
   "cell_type": "code",
   "execution_count": 7,
   "metadata": {},
   "outputs": [
    {
     "data": {
      "text/plain": [
       "(3330, 11)"
      ]
     },
     "execution_count": 7,
     "metadata": {},
     "output_type": "execute_result"
    }
   ],
   "source": [
    "indy.shape"
   ]
  },
  {
   "cell_type": "code",
   "execution_count": 8,
   "metadata": {},
   "outputs": [],
   "source": [
    "indy.to_csv('./races.csv', index = False)"
   ]
  }
 ],
 "metadata": {
  "kernelspec": {
   "display_name": "Python 3",
   "language": "python",
   "name": "python3"
  },
  "language_info": {
   "codemirror_mode": {
    "name": "ipython",
    "version": 3
   },
   "file_extension": ".py",
   "mimetype": "text/x-python",
   "name": "python",
   "nbconvert_exporter": "python",
   "pygments_lexer": "ipython3",
   "version": "3.7.6"
  }
 },
 "nbformat": 4,
 "nbformat_minor": 4
}
