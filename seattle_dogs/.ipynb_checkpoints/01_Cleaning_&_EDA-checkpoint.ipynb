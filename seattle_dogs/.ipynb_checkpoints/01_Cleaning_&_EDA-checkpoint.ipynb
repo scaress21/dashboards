{
 "cells": [
  {
   "cell_type": "markdown",
   "metadata": {},
   "source": [
    "## Pets of Seattle\n",
    "###### Part 1: Data Cleaning and EDA\n",
    "Did you know dogs were the first domesticated animial? I loved reading that in the book [Sapiens by Yuval Noah Harari](https://www.ynharari.com/book/sapiens/) because it validated my deep love of animals, especially dogs, as they were our first four legged companions! I wanted to take a look at pet ownership in the US and Seattle releases their records annually. This notebook explores the pets of the Northwest!"
   ]
  },
  {
   "cell_type": "code",
   "execution_count": 1,
   "metadata": {},
   "outputs": [],
   "source": [
    "import pandas as pd\n",
    "import numpy as np\n",
    "import matplotlib.pyplot as plt\n",
    "import warnings\n",
    "warnings.filterwarnings('ignore')"
   ]
  },
  {
   "cell_type": "code",
   "execution_count": 2,
   "metadata": {},
   "outputs": [],
   "source": [
    "pet = pd.read_csv('./data/Seattle_Pet_Licenses.csv')"
   ]
  },
  {
   "cell_type": "code",
   "execution_count": 3,
   "metadata": {},
   "outputs": [
    {
     "data": {
      "text/html": [
       "<div>\n",
       "<style scoped>\n",
       "    .dataframe tbody tr th:only-of-type {\n",
       "        vertical-align: middle;\n",
       "    }\n",
       "\n",
       "    .dataframe tbody tr th {\n",
       "        vertical-align: top;\n",
       "    }\n",
       "\n",
       "    .dataframe thead th {\n",
       "        text-align: right;\n",
       "    }\n",
       "</style>\n",
       "<table border=\"1\" class=\"dataframe\">\n",
       "  <thead>\n",
       "    <tr style=\"text-align: right;\">\n",
       "      <th></th>\n",
       "      <th>License Issue Date</th>\n",
       "      <th>License Number</th>\n",
       "      <th>Animal's Name</th>\n",
       "      <th>Species</th>\n",
       "      <th>Primary Breed</th>\n",
       "      <th>Secondary Breed</th>\n",
       "      <th>ZIP Code</th>\n",
       "    </tr>\n",
       "  </thead>\n",
       "  <tbody>\n",
       "    <tr>\n",
       "      <th>0</th>\n",
       "      <td>January 03 2000</td>\n",
       "      <td>263574</td>\n",
       "      <td>NaN</td>\n",
       "      <td>Dog</td>\n",
       "      <td>Shepherd</td>\n",
       "      <td>NaN</td>\n",
       "      <td>98119</td>\n",
       "    </tr>\n",
       "    <tr>\n",
       "      <th>1</th>\n",
       "      <td>January 05 2000</td>\n",
       "      <td>119820</td>\n",
       "      <td>Fancy</td>\n",
       "      <td>Dog</td>\n",
       "      <td>Retriever, Labrador</td>\n",
       "      <td>NaN</td>\n",
       "      <td>98106</td>\n",
       "    </tr>\n",
       "  </tbody>\n",
       "</table>\n",
       "</div>"
      ],
      "text/plain": [
       "  License Issue Date License Number Animal's Name Species  \\\n",
       "0    January 03 2000         263574           NaN     Dog   \n",
       "1    January 05 2000         119820         Fancy     Dog   \n",
       "\n",
       "         Primary Breed Secondary Breed ZIP Code  \n",
       "0             Shepherd             NaN    98119  \n",
       "1  Retriever, Labrador             NaN    98106  "
      ]
     },
     "execution_count": 3,
     "metadata": {},
     "output_type": "execute_result"
    }
   ],
   "source": [
    "pet.head(2)"
   ]
  },
  {
   "cell_type": "code",
   "execution_count": 4,
   "metadata": {},
   "outputs": [
    {
     "data": {
      "text/plain": [
       "(49230, 7)"
      ]
     },
     "execution_count": 4,
     "metadata": {},
     "output_type": "execute_result"
    }
   ],
   "source": [
    "pet.shape"
   ]
  },
  {
   "cell_type": "markdown",
   "metadata": {},
   "source": [
    "#### Data Cleaning"
   ]
  },
  {
   "cell_type": "code",
   "execution_count": 5,
   "metadata": {},
   "outputs": [
    {
     "data": {
      "text/plain": [
       "License Issue Date        0\n",
       "License Number            0\n",
       "Animal's Name           289\n",
       "Species                   0\n",
       "Primary Breed             0\n",
       "Secondary Breed       25974\n",
       "ZIP Code               1214\n",
       "dtype: int64"
      ]
     },
     "execution_count": 5,
     "metadata": {},
     "output_type": "execute_result"
    }
   ],
   "source": [
    "pet.isna().sum()"
   ]
  },
  {
   "cell_type": "markdown",
   "metadata": {},
   "source": [
    "Since secondary breed is missing almost half of the values, that column will be dropped. Additionally, knowing the zip code isn't a point of interest for this dashboard so I'll drop that one as well. For animal's name, there are almost 300 missing values. This is definitely a column of interest that I want to keep so I'll just drop those observations. Given the size of the dataset, losing 300 rows is not a concern."
   ]
  },
  {
   "cell_type": "code",
   "execution_count": 6,
   "metadata": {},
   "outputs": [],
   "source": [
    "pet.drop(columns = ['Secondary Breed', 'ZIP Code'], inplace = True)"
   ]
  },
  {
   "cell_type": "code",
   "execution_count": 7,
   "metadata": {},
   "outputs": [],
   "source": [
    "pet = pet[pet['Animal\\'s Name'].notnull()]"
   ]
  },
  {
   "cell_type": "code",
   "execution_count": 8,
   "metadata": {},
   "outputs": [],
   "source": [
    "new_columns = {'License Issue Date' : 'issued',\n",
    "               'License Number' : 'number', \n",
    "               'Animal\\'s Name' :  'name',\n",
    "               'Species' : 'species',\n",
    "              'Primary Breed' : 'breed'}"
   ]
  },
  {
   "cell_type": "code",
   "execution_count": 9,
   "metadata": {},
   "outputs": [],
   "source": [
    "pet.rename(columns = new_columns, inplace = True)"
   ]
  },
  {
   "cell_type": "code",
   "execution_count": 10,
   "metadata": {},
   "outputs": [
    {
     "data": {
      "text/html": [
       "<div>\n",
       "<style scoped>\n",
       "    .dataframe tbody tr th:only-of-type {\n",
       "        vertical-align: middle;\n",
       "    }\n",
       "\n",
       "    .dataframe tbody tr th {\n",
       "        vertical-align: top;\n",
       "    }\n",
       "\n",
       "    .dataframe thead th {\n",
       "        text-align: right;\n",
       "    }\n",
       "</style>\n",
       "<table border=\"1\" class=\"dataframe\">\n",
       "  <thead>\n",
       "    <tr style=\"text-align: right;\">\n",
       "      <th></th>\n",
       "      <th>issued</th>\n",
       "      <th>number</th>\n",
       "      <th>name</th>\n",
       "      <th>species</th>\n",
       "      <th>breed</th>\n",
       "    </tr>\n",
       "  </thead>\n",
       "  <tbody>\n",
       "    <tr>\n",
       "      <th>1</th>\n",
       "      <td>January 05 2000</td>\n",
       "      <td>119820</td>\n",
       "      <td>Fancy</td>\n",
       "      <td>Dog</td>\n",
       "      <td>Retriever, Labrador</td>\n",
       "    </tr>\n",
       "    <tr>\n",
       "      <th>2</th>\n",
       "      <td>January 06 2000</td>\n",
       "      <td>10401</td>\n",
       "      <td>Skip</td>\n",
       "      <td>Dog</td>\n",
       "      <td>Siberian Husky</td>\n",
       "    </tr>\n",
       "  </tbody>\n",
       "</table>\n",
       "</div>"
      ],
      "text/plain": [
       "            issued  number   name species                breed\n",
       "1  January 05 2000  119820  Fancy     Dog  Retriever, Labrador\n",
       "2  January 06 2000   10401   Skip     Dog       Siberian Husky"
      ]
     },
     "execution_count": 10,
     "metadata": {},
     "output_type": "execute_result"
    }
   ],
   "source": [
    "pet.head(2)"
   ]
  },
  {
   "cell_type": "code",
   "execution_count": 11,
   "metadata": {},
   "outputs": [
    {
     "data": {
      "text/plain": [
       "issued     0\n",
       "number     0\n",
       "name       0\n",
       "species    0\n",
       "breed      0\n",
       "dtype: int64"
      ]
     },
     "execution_count": 11,
     "metadata": {},
     "output_type": "execute_result"
    }
   ],
   "source": [
    "pet.isna().sum()"
   ]
  },
  {
   "cell_type": "code",
   "execution_count": 12,
   "metadata": {},
   "outputs": [],
   "source": [
    "pet.to_csv('./data/clean_pet_data.csv', index = False)"
   ]
  },
  {
   "cell_type": "markdown",
   "metadata": {},
   "source": [
    "#### Exploratory Data Analysis"
   ]
  },
  {
   "cell_type": "code",
   "execution_count": 13,
   "metadata": {},
   "outputs": [
    {
     "data": {
      "text/plain": [
       "Dog     33078\n",
       "Cat     15824\n",
       "Goat       36\n",
       "Pig         3\n",
       "Name: species, dtype: int64"
      ]
     },
     "execution_count": 13,
     "metadata": {},
     "output_type": "execute_result"
    }
   ],
   "source": [
    "pet['species'].value_counts()"
   ]
  },
  {
   "cell_type": "code",
   "execution_count": 14,
   "metadata": {},
   "outputs": [
    {
     "data": {
      "text/plain": [
       "Text(0.5, 1.0, 'Types of Pets')"
      ]
     },
     "execution_count": 14,
     "metadata": {},
     "output_type": "execute_result"
    },
    {
     "data": {
      "image/png": "[encoded data removed]",
      "text/plain": [
       "<Figure size 432x288 with 1 Axes>"
      ]
     },
     "metadata": {},
     "output_type": "display_data"
    }
   ],
   "source": [
    "plt.pie(pet['species'].value_counts(normalize = True), labels = ['Dog', 'Cat', 'Goat', 'Pig']);\n",
    "plt.title('Types of Pets')"
   ]
  },
  {
   "cell_type": "code",
   "execution_count": 15,
   "metadata": {},
   "outputs": [
    {
     "data": {
      "text/plain": [
       "Text(0.5, 1.0, 'Top 10 Dog Names')"
      ]
     },
     "execution_count": 15,
     "metadata": {},
     "output_type": "execute_result"
    },
    {
     "data": {
      "image/png": "[encoded data removed]",
      "text/plain": [
       "<Figure size 432x288 with 1 Axes>"
      ]
     },
     "metadata": {
      "needs_background": "light"
     },
     "output_type": "display_data"
    }
   ],
   "source": [
    "x_dog = list(pet[pet['species'] == 'Dog'].groupby('name').count().sort_values('species', ascending = False)[:10].index)\n",
    "y_dog = list(pet[pet['species'] == 'Dog']['name'].value_counts().sort_values(ascending = False)[:10])\n",
    "x_dog = list(reversed(x_dog))\n",
    "y_dog = list(reversed(y_dog))\n",
    "plt.barh(x_dog, y_dog, color = 'indianred')\n",
    "plt.title('Top 10 Dog Names')\n",
    "\n"
   ]
  },
  {
   "cell_type": "code",
   "execution_count": 16,
   "metadata": {},
   "outputs": [
    {
     "data": {
      "text/plain": [
       "Text(0.5, 1.0, 'Top 10 Cat Names')"
      ]
     },
     "execution_count": 16,
     "metadata": {},
     "output_type": "execute_result"
    },
    {
     "data": {
      "image/png": "[encoded data removed]",
      "text/plain": [
       "<Figure size 432x288 with 1 Axes>"
      ]
     },
     "metadata": {
      "needs_background": "light"
     },
     "output_type": "display_data"
    }
   ],
   "source": [
    "x_cat = list(pet[pet['species'] == 'Cat'].groupby('name').count().sort_values('species', ascending = False)[:10].index)\n",
    "y_cat = list(pet[pet['species'] == 'Cat']['name'].value_counts().sort_values(ascending = False)[:10])\n",
    "x_cat = list(reversed(x_cat))\n",
    "y_cat = list(reversed(y_cat))\n",
    "plt.barh(x_cat, y_cat, color = 'indianred')\n",
    "plt.title('Top 10 Cat Names')"
   ]
  },
  {
   "cell_type": "markdown",
   "metadata": {},
   "source": [
    "I'd also like to look at the different breeds of animals, but the way they're packaged now won't work. I'll need to split out each breed to it's own column."
   ]
  },
  {
   "cell_type": "code",
   "execution_count": 17,
   "metadata": {},
   "outputs": [],
   "source": [
    "pet['breed'] = [x.split(',') for x in pet['breed']]"
   ]
  },
  {
   "cell_type": "code",
   "execution_count": 18,
   "metadata": {},
   "outputs": [],
   "source": [
    "def remove_space(list_of_breeds):\n",
    "    list_of_breeds = [i.strip() for i in list_of_breeds]\n",
    "    return list_of_breeds"
   ]
  },
  {
   "cell_type": "code",
   "execution_count": 19,
   "metadata": {},
   "outputs": [],
   "source": [
    "pet['breed'] = pet['breed'].apply(remove_space)"
   ]
  },
  {
   "cell_type": "markdown",
   "metadata": {},
   "source": [
    "Separating the dog breeds:"
   ]
  },
  {
   "cell_type": "code",
   "execution_count": 20,
   "metadata": {},
   "outputs": [],
   "source": [
    "dog = pet[pet['species'] == 'Dog']"
   ]
  },
  {
   "cell_type": "code",
   "execution_count": 21,
   "metadata": {},
   "outputs": [],
   "source": [
    "dog.reset_index(inplace = True)"
   ]
  },
  {
   "cell_type": "code",
   "execution_count": 22,
   "metadata": {},
   "outputs": [],
   "source": [
    "all_breed = []\n",
    "for p in dog['breed']:\n",
    "    for b in p:\n",
    "        if b.strip() in all_breed:\n",
    "            pass\n",
    "        else:\n",
    "            all_breed.append(b.strip())"
   ]
  },
  {
   "cell_type": "code",
   "execution_count": 23,
   "metadata": {},
   "outputs": [
    {
     "name": "stdout",
     "output_type": "stream",
     "text": [
      "270 270\n"
     ]
    }
   ],
   "source": [
    "print(len(all_breed), len(set(all_breed)))"
   ]
  },
  {
   "cell_type": "markdown",
   "metadata": {},
   "source": [
    "270 is a lot of dog breeds to add to the DataFrame but overall I think it's worth it to see what the most populat breed is!"
   ]
  },
  {
   "cell_type": "code",
   "execution_count": 24,
   "metadata": {},
   "outputs": [],
   "source": [
    "for breed in all_breed:\n",
    "    dog[breed] = 0\n",
    "    for p in range(0, len(dog['breed'])):\n",
    "        if breed in dog.loc[p, 'breed']:\n",
    "            dog.loc[p, breed] = 1\n",
    "        else:\n",
    "            dog.loc[p, breed] = 0"
   ]
  },
  {
   "cell_type": "code",
   "execution_count": 25,
   "metadata": {},
   "outputs": [],
   "source": [
    "dog.head()\n",
    "dog.to_csv('./data/dog_breeds.csv', index = False)"
   ]
  },
  {
   "cell_type": "markdown",
   "metadata": {},
   "source": [
    "Doing the same for cats:"
   ]
  },
  {
   "cell_type": "code",
   "execution_count": 26,
   "metadata": {},
   "outputs": [],
   "source": [
    "cat = pet[pet['species'] == 'Cat']"
   ]
  },
  {
   "cell_type": "code",
   "execution_count": 27,
   "metadata": {},
   "outputs": [
    {
     "data": {
      "text/html": [
       "<div>\n",
       "<style scoped>\n",
       "    .dataframe tbody tr th:only-of-type {\n",
       "        vertical-align: middle;\n",
       "    }\n",
       "\n",
       "    .dataframe tbody tr th {\n",
       "        vertical-align: top;\n",
       "    }\n",
       "\n",
       "    .dataframe thead th {\n",
       "        text-align: right;\n",
       "    }\n",
       "</style>\n",
       "<table border=\"1\" class=\"dataframe\">\n",
       "  <thead>\n",
       "    <tr style=\"text-align: right;\">\n",
       "      <th></th>\n",
       "      <th>issued</th>\n",
       "      <th>number</th>\n",
       "      <th>name</th>\n",
       "      <th>species</th>\n",
       "      <th>breed</th>\n",
       "    </tr>\n",
       "  </thead>\n",
       "  <tbody>\n",
       "    <tr>\n",
       "      <th>15853</th>\n",
       "      <td>May 13 2015</td>\n",
       "      <td>361031</td>\n",
       "      <td>My Boy</td>\n",
       "      <td>Cat</td>\n",
       "      <td>[Russian Blue]</td>\n",
       "    </tr>\n",
       "    <tr>\n",
       "      <th>15854</th>\n",
       "      <td>July 21 2015</td>\n",
       "      <td>203480</td>\n",
       "      <td>Rocket</td>\n",
       "      <td>Cat</td>\n",
       "      <td>[Domestic Shorthair]</td>\n",
       "    </tr>\n",
       "    <tr>\n",
       "      <th>15855</th>\n",
       "      <td>November 17 2015</td>\n",
       "      <td>75175</td>\n",
       "      <td>Charlie</td>\n",
       "      <td>Cat</td>\n",
       "      <td>[Persian]</td>\n",
       "    </tr>\n",
       "    <tr>\n",
       "      <th>15856</th>\n",
       "      <td>November 24 2015</td>\n",
       "      <td>18541</td>\n",
       "      <td>Brat Cat</td>\n",
       "      <td>Cat</td>\n",
       "      <td>[Domestic Shorthair]</td>\n",
       "    </tr>\n",
       "    <tr>\n",
       "      <th>15857</th>\n",
       "      <td>December 06 2015</td>\n",
       "      <td>276770</td>\n",
       "      <td>Milo</td>\n",
       "      <td>Cat</td>\n",
       "      <td>[Maine Coon]</td>\n",
       "    </tr>\n",
       "    <tr>\n",
       "      <th>...</th>\n",
       "      <td>...</td>\n",
       "      <td>...</td>\n",
       "      <td>...</td>\n",
       "      <td>...</td>\n",
       "      <td>...</td>\n",
       "    </tr>\n",
       "    <tr>\n",
       "      <th>31858</th>\n",
       "      <td>January 01 2020</td>\n",
       "      <td>8014475</td>\n",
       "      <td>Moki</td>\n",
       "      <td>Cat</td>\n",
       "      <td>[Domestic Shorthair]</td>\n",
       "    </tr>\n",
       "    <tr>\n",
       "      <th>31859</th>\n",
       "      <td>January 01 2020</td>\n",
       "      <td>8014477</td>\n",
       "      <td>George Klainer</td>\n",
       "      <td>Cat</td>\n",
       "      <td>[American Shorthair]</td>\n",
       "    </tr>\n",
       "    <tr>\n",
       "      <th>31860</th>\n",
       "      <td>January 02 2020</td>\n",
       "      <td>8014481</td>\n",
       "      <td>Lua</td>\n",
       "      <td>Cat</td>\n",
       "      <td>[Ragdoll]</td>\n",
       "    </tr>\n",
       "    <tr>\n",
       "      <th>31861</th>\n",
       "      <td>January 02 2020</td>\n",
       "      <td>8014482</td>\n",
       "      <td>Ginger</td>\n",
       "      <td>Cat</td>\n",
       "      <td>[American Shorthair]</td>\n",
       "    </tr>\n",
       "    <tr>\n",
       "      <th>31862</th>\n",
       "      <td>January 02 2020</td>\n",
       "      <td>8014483</td>\n",
       "      <td>Catalina</td>\n",
       "      <td>Cat</td>\n",
       "      <td>[Siberian]</td>\n",
       "    </tr>\n",
       "  </tbody>\n",
       "</table>\n",
       "<p>15824 rows × 5 columns</p>\n",
       "</div>"
      ],
      "text/plain": [
       "                 issued   number            name species                 breed\n",
       "15853       May 13 2015   361031          My Boy     Cat        [Russian Blue]\n",
       "15854      July 21 2015   203480          Rocket     Cat  [Domestic Shorthair]\n",
       "15855  November 17 2015    75175         Charlie     Cat             [Persian]\n",
       "15856  November 24 2015    18541        Brat Cat     Cat  [Domestic Shorthair]\n",
       "15857  December 06 2015   276770            Milo     Cat          [Maine Coon]\n",
       "...                 ...      ...             ...     ...                   ...\n",
       "31858   January 01 2020  8014475            Moki     Cat  [Domestic Shorthair]\n",
       "31859   January 01 2020  8014477  George Klainer     Cat  [American Shorthair]\n",
       "31860   January 02 2020  8014481             Lua     Cat             [Ragdoll]\n",
       "31861   January 02 2020  8014482          Ginger     Cat  [American Shorthair]\n",
       "31862   January 02 2020  8014483        Catalina     Cat            [Siberian]\n",
       "\n",
       "[15824 rows x 5 columns]"
      ]
     },
     "execution_count": 27,
     "metadata": {},
     "output_type": "execute_result"
    }
   ],
   "source": [
    "cat"
   ]
  },
  {
   "cell_type": "code",
   "execution_count": 28,
   "metadata": {},
   "outputs": [],
   "source": [
    "cat.reset_index(inplace = True)"
   ]
  },
  {
   "cell_type": "code",
   "execution_count": 29,
   "metadata": {},
   "outputs": [],
   "source": [
    "all_breed_cat = []\n",
    "for p in cat['breed']:\n",
    "    for b in p:\n",
    "        if b.strip() in all_breed_cat:\n",
    "            pass\n",
    "        else:\n",
    "            all_breed_cat.append(b.strip())"
   ]
  },
  {
   "cell_type": "code",
   "execution_count": 30,
   "metadata": {},
   "outputs": [
    {
     "name": "stdout",
     "output_type": "stream",
     "text": [
      "60 60\n"
     ]
    }
   ],
   "source": [
    "print(len(all_breed_cat), len(set(all_breed_cat)))"
   ]
  },
  {
   "cell_type": "code",
   "execution_count": 31,
   "metadata": {},
   "outputs": [],
   "source": [
    "for breed in all_breed_cat:\n",
    "    cat[breed] = 0\n",
    "    for p in range(0, len(cat['breed'])):\n",
    "        if breed in cat.loc[p, 'breed']:\n",
    "            cat.loc[p, breed] = 1\n",
    "        else:\n",
    "            cat.loc[p, breed] = 0"
   ]
  },
  {
   "cell_type": "code",
   "execution_count": 32,
   "metadata": {},
   "outputs": [],
   "source": [
    "cat.to_csv('./data/cat_breeds.csv', index = False)"
   ]
  },
  {
   "cell_type": "code",
   "execution_count": 33,
   "metadata": {},
   "outputs": [
    {
     "data": {
      "text/html": [
       "<div>\n",
       "<style scoped>\n",
       "    .dataframe tbody tr th:only-of-type {\n",
       "        vertical-align: middle;\n",
       "    }\n",
       "\n",
       "    .dataframe tbody tr th {\n",
       "        vertical-align: top;\n",
       "    }\n",
       "\n",
       "    .dataframe thead th {\n",
       "        text-align: right;\n",
       "    }\n",
       "</style>\n",
       "<table border=\"1\" class=\"dataframe\">\n",
       "  <thead>\n",
       "    <tr style=\"text-align: right;\">\n",
       "      <th></th>\n",
       "      <th>index</th>\n",
       "      <th>issued</th>\n",
       "      <th>number</th>\n",
       "      <th>name</th>\n",
       "      <th>species</th>\n",
       "      <th>breed</th>\n",
       "      <th>Russian Blue</th>\n",
       "      <th>Domestic Shorthair</th>\n",
       "      <th>Persian</th>\n",
       "      <th>Maine Coon</th>\n",
       "      <th>...</th>\n",
       "      <th>Sokoke</th>\n",
       "      <th>Toyger</th>\n",
       "      <th>Desert Lynx</th>\n",
       "      <th>British Blue</th>\n",
       "      <th>Cymric</th>\n",
       "      <th>Exotic Longhair</th>\n",
       "      <th>California Spangled</th>\n",
       "      <th>Savannah</th>\n",
       "      <th>Munchkin</th>\n",
       "      <th>Oriental Long Hair</th>\n",
       "    </tr>\n",
       "  </thead>\n",
       "  <tbody>\n",
       "    <tr>\n",
       "      <th>0</th>\n",
       "      <td>15853</td>\n",
       "      <td>May 13 2015</td>\n",
       "      <td>361031</td>\n",
       "      <td>My Boy</td>\n",
       "      <td>Cat</td>\n",
       "      <td>[Russian Blue]</td>\n",
       "      <td>1</td>\n",
       "      <td>0</td>\n",
       "      <td>0</td>\n",
       "      <td>0</td>\n",
       "      <td>...</td>\n",
       "      <td>0</td>\n",
       "      <td>0</td>\n",
       "      <td>0</td>\n",
       "      <td>0</td>\n",
       "      <td>0</td>\n",
       "      <td>0</td>\n",
       "      <td>0</td>\n",
       "      <td>0</td>\n",
       "      <td>0</td>\n",
       "      <td>0</td>\n",
       "    </tr>\n",
       "    <tr>\n",
       "      <th>1</th>\n",
       "      <td>15854</td>\n",
       "      <td>July 21 2015</td>\n",
       "      <td>203480</td>\n",
       "      <td>Rocket</td>\n",
       "      <td>Cat</td>\n",
       "      <td>[Domestic Shorthair]</td>\n",
       "      <td>0</td>\n",
       "      <td>1</td>\n",
       "      <td>0</td>\n",
       "      <td>0</td>\n",
       "      <td>...</td>\n",
       "      <td>0</td>\n",
       "      <td>0</td>\n",
       "      <td>0</td>\n",
       "      <td>0</td>\n",
       "      <td>0</td>\n",
       "      <td>0</td>\n",
       "      <td>0</td>\n",
       "      <td>0</td>\n",
       "      <td>0</td>\n",
       "      <td>0</td>\n",
       "    </tr>\n",
       "    <tr>\n",
       "      <th>2</th>\n",
       "      <td>15855</td>\n",
       "      <td>November 17 2015</td>\n",
       "      <td>75175</td>\n",
       "      <td>Charlie</td>\n",
       "      <td>Cat</td>\n",
       "      <td>[Persian]</td>\n",
       "      <td>0</td>\n",
       "      <td>0</td>\n",
       "      <td>1</td>\n",
       "      <td>0</td>\n",
       "      <td>...</td>\n",
       "      <td>0</td>\n",
       "      <td>0</td>\n",
       "      <td>0</td>\n",
       "      <td>0</td>\n",
       "      <td>0</td>\n",
       "      <td>0</td>\n",
       "      <td>0</td>\n",
       "      <td>0</td>\n",
       "      <td>0</td>\n",
       "      <td>0</td>\n",
       "    </tr>\n",
       "    <tr>\n",
       "      <th>3</th>\n",
       "      <td>15856</td>\n",
       "      <td>November 24 2015</td>\n",
       "      <td>18541</td>\n",
       "      <td>Brat Cat</td>\n",
       "      <td>Cat</td>\n",
       "      <td>[Domestic Shorthair]</td>\n",
       "      <td>0</td>\n",
       "      <td>1</td>\n",
       "      <td>0</td>\n",
       "      <td>0</td>\n",
       "      <td>...</td>\n",
       "      <td>0</td>\n",
       "      <td>0</td>\n",
       "      <td>0</td>\n",
       "      <td>0</td>\n",
       "      <td>0</td>\n",
       "      <td>0</td>\n",
       "      <td>0</td>\n",
       "      <td>0</td>\n",
       "      <td>0</td>\n",
       "      <td>0</td>\n",
       "    </tr>\n",
       "    <tr>\n",
       "      <th>4</th>\n",
       "      <td>15857</td>\n",
       "      <td>December 06 2015</td>\n",
       "      <td>276770</td>\n",
       "      <td>Milo</td>\n",
       "      <td>Cat</td>\n",
       "      <td>[Maine Coon]</td>\n",
       "      <td>0</td>\n",
       "      <td>0</td>\n",
       "      <td>0</td>\n",
       "      <td>1</td>\n",
       "      <td>...</td>\n",
       "      <td>0</td>\n",
       "      <td>0</td>\n",
       "      <td>0</td>\n",
       "      <td>0</td>\n",
       "      <td>0</td>\n",
       "      <td>0</td>\n",
       "      <td>0</td>\n",
       "      <td>0</td>\n",
       "      <td>0</td>\n",
       "      <td>0</td>\n",
       "    </tr>\n",
       "  </tbody>\n",
       "</table>\n",
       "<p>5 rows × 66 columns</p>\n",
       "</div>"
      ],
      "text/plain": [
       "   index            issued  number      name species                 breed  \\\n",
       "0  15853       May 13 2015  361031    My Boy     Cat        [Russian Blue]   \n",
       "1  15854      July 21 2015  203480    Rocket     Cat  [Domestic Shorthair]   \n",
       "2  15855  November 17 2015   75175   Charlie     Cat             [Persian]   \n",
       "3  15856  November 24 2015   18541  Brat Cat     Cat  [Domestic Shorthair]   \n",
       "4  15857  December 06 2015  276770      Milo     Cat          [Maine Coon]   \n",
       "\n",
       "   Russian Blue  Domestic Shorthair  Persian  Maine Coon  ...  Sokoke  Toyger  \\\n",
       "0             1                   0        0           0  ...       0       0   \n",
       "1             0                   1        0           0  ...       0       0   \n",
       "2             0                   0        1           0  ...       0       0   \n",
       "3             0                   1        0           0  ...       0       0   \n",
       "4             0                   0        0           1  ...       0       0   \n",
       "\n",
       "   Desert Lynx  British Blue  Cymric  Exotic Longhair  California Spangled  \\\n",
       "0            0             0       0                0                    0   \n",
       "1            0             0       0                0                    0   \n",
       "2            0             0       0                0                    0   \n",
       "3            0             0       0                0                    0   \n",
       "4            0             0       0                0                    0   \n",
       "\n",
       "   Savannah  Munchkin  Oriental Long Hair  \n",
       "0         0         0                   0  \n",
       "1         0         0                   0  \n",
       "2         0         0                   0  \n",
       "3         0         0                   0  \n",
       "4         0         0                   0  \n",
       "\n",
       "[5 rows x 66 columns]"
      ]
     },
     "execution_count": 33,
     "metadata": {},
     "output_type": "execute_result"
    }
   ],
   "source": [
    "cat.head()"
   ]
  }
 ],
 "metadata": {
  "kernelspec": {
   "display_name": "Python 3",
   "language": "python",
   "name": "python3"
  },
  "language_info": {
   "codemirror_mode": {
    "name": "ipython",
    "version": 3
   },
   "file_extension": ".py",
   "mimetype": "text/x-python",
   "name": "python",
   "nbconvert_exporter": "python",
   "pygments_lexer": "ipython3",
   "version": "3.7.6"
  }
 },
 "nbformat": 4,
 "nbformat_minor": 4
}
