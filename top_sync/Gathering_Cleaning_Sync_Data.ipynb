{
 "cells": [
  {
   "cell_type": "markdown",
   "metadata": {},
   "source": [
    "## Most Synced Songs in Film & TV\n",
    "Who doesn't love a good soundtrack? Some of our favorite songs are discovered by watching them synced to picture. This dashboard will explore the top songs from film and TV shows according to What-Song.com. This notebook will scrape the info needed from the website."
   ]
  },
  {
   "cell_type": "code",
   "execution_count": 1,
   "metadata": {},
   "outputs": [],
   "source": [
    "import pandas as pd \n",
    "import numpy as np\n",
    "import matplotlib.pyplot as plt\n",
    "import seaborn as sns\n",
    "import requests\n",
    "from bs4 import BeautifulSoup\n",
    "import time\n",
    "import regex as re"
   ]
  },
  {
   "cell_type": "markdown",
   "metadata": {},
   "source": [
    "The URL below contains about 20 pages of more links that each go to artist page."
   ]
  },
  {
   "cell_type": "code",
   "execution_count": 2,
   "metadata": {},
   "outputs": [],
   "source": [
    "url = 'https://www.what-song.com/sitemap/artist-index.xml'\n",
    "\n",
    "res = requests.get(url)"
   ]
  },
  {
   "cell_type": "code",
   "execution_count": 3,
   "metadata": {},
   "outputs": [
    {
     "data": {
      "text/plain": [
       "200"
      ]
     },
     "execution_count": 3,
     "metadata": {},
     "output_type": "execute_result"
    }
   ],
   "source": [
    "res.status_code"
   ]
  },
  {
   "cell_type": "code",
   "execution_count": 4,
   "metadata": {},
   "outputs": [],
   "source": [
    "soup = BeautifulSoup(res.content, 'lxml')"
   ]
  },
  {
   "cell_type": "code",
   "execution_count": 5,
   "metadata": {},
   "outputs": [],
   "source": [
    "directory = soup.find_all('loc')"
   ]
  },
  {
   "cell_type": "markdown",
   "metadata": {},
   "source": [
    "Each page below contains a couple thousand individual artists to scrape:"
   ]
  },
  {
   "cell_type": "code",
   "execution_count": 6,
   "metadata": {},
   "outputs": [
    {
     "data": {
      "text/plain": [
       "['artist-0.xml',\n",
       " 'artist-1.xml',\n",
       " 'artist-2.xml',\n",
       " 'artist-3.xml',\n",
       " 'artist-4.xml']"
      ]
     },
     "execution_count": 6,
     "metadata": {},
     "output_type": "execute_result"
    }
   ],
   "source": [
    "directory = [x.text.split('sitemap/')[1] for x in directory]\n",
    "directory[:5]"
   ]
  },
  {
   "cell_type": "code",
   "execution_count": 7,
   "metadata": {},
   "outputs": [],
   "source": [
    "artists_to_loop = []\n",
    "\n",
    "#For each artist directory page\n",
    "for page in directory:\n",
    "    \n",
    "    #go to the site and get the content\n",
    "    site = 'https://www.what-song.com/sitemap/'\n",
    "    art = requests.get(site + page)\n",
    "    soup = BeautifulSoup(art.content, 'lxml')\n",
    "    \n",
    "    #grab all the 'loc' tags, which will be individual artists\n",
    "    people = soup.find_all('loc')\n",
    "    for p in people:\n",
    "         artists_to_loop.append(p.text.split('Artist/')[1])"
   ]
  },
  {
   "cell_type": "markdown",
   "metadata": {},
   "source": [
    "We now have a list of all the artists on the site to go back and scrape their placements."
   ]
  },
  {
   "cell_type": "code",
   "execution_count": 8,
   "metadata": {},
   "outputs": [
    {
     "data": {
      "text/plain": [
       "43986"
      ]
     },
     "execution_count": 8,
     "metadata": {},
     "output_type": "execute_result"
    }
   ],
   "source": [
    "len(artists_to_loop)"
   ]
  },
  {
   "cell_type": "code",
   "execution_count": 9,
   "metadata": {},
   "outputs": [
    {
     "data": {
      "text/plain": [
       "['1/Dusty-Springfield',\n",
       " '3/The-Kinks',\n",
       " '2/The-Fray',\n",
       " '4/Black-Summer-Crush',\n",
       " '5/Frank-Sinatra']"
      ]
     },
     "execution_count": 9,
     "metadata": {},
     "output_type": "execute_result"
    }
   ],
   "source": [
    "artists_to_loop[:5]"
   ]
  },
  {
   "cell_type": "markdown",
   "metadata": {},
   "source": [
    "Now that we have the pages for each artist, we'll loop through to grab the songs."
   ]
  },
  {
   "cell_type": "code",
   "execution_count": null,
   "metadata": {},
   "outputs": [
    {
     "name": "stdout",
     "output_type": "stream",
     "text": [
      "1000 artists gathered so far.\n",
      "2000 artists gathered so far.\n",
      "3000 artists gathered so far.\n",
      "4000 artists gathered so far.\n",
      "5000 artists gathered so far.\n",
      "6000 artists gathered so far.\n",
      "7000 artists gathered so far.\n",
      "8000 artists gathered so far.\n",
      "9000 artists gathered so far.\n"
     ]
    }
   ],
   "source": [
    "#Empty list to hold each song\n",
    "song_list = []\n",
    "failed = []\n",
    "#Count to keep track of how many gathered\n",
    "count = 0\n",
    "\n",
    "for a in artists_to_loop:\n",
    "    #Setting this up as a try/except so the loop doesn't stop if one doesn't work\n",
    "    try:\n",
    "        artist_page = 'https://www.what-song.com/Artist/'\n",
    "        artist = a.split('/')[1].replace('-', ' ')\n",
    "        person = requests.get(artist_page + a)\n",
    "        soup = BeautifulSoup(person.content, 'lxml')\n",
    "        title = soup.find_all('div', {'class' : 'song__title'})\n",
    "        info = soup.find_all('div', {'class' : 'song__info'})\n",
    "        show = soup.find_all('div', {'class' : 'song__name-like'})\n",
    "        for t in range(0, len(title)):\n",
    "            sync_dict = {\n",
    "                'artist' : artist,\n",
    "                'song_title' : title[t].text,\n",
    "                'use' : info[t].text,\n",
    "                'show' :  show[t].text\n",
    "            }\n",
    "            song_list.append(sync_dict)\n",
    "        count += 1\n",
    "        if count % 1000 == 0:\n",
    "            print(f'{count} artists gathered so far.')\n",
    "    #Save the artist page to 'failed' if unable to retrieve the information\n",
    "    except:\n",
    "        failed.append(a)"
   ]
  },
  {
   "cell_type": "markdown",
   "metadata": {},
   "source": [
    "Print the total gathered and turn our list into a DataFrame"
   ]
  },
  {
   "cell_type": "code",
   "execution_count": null,
   "metadata": {},
   "outputs": [],
   "source": [
    "print(count)\n",
    "what_song = pd.DataFrame(song_list)"
   ]
  },
  {
   "cell_type": "code",
   "execution_count": null,
   "metadata": {},
   "outputs": [],
   "source": [
    "what_song.to_csv('./raw_songs.csv', index = False)"
   ]
  },
  {
   "cell_type": "markdown",
   "metadata": {},
   "source": [
    "Checking out what was gathered:"
   ]
  },
  {
   "cell_type": "code",
   "execution_count": 14,
   "metadata": {},
   "outputs": [
    {
     "data": {
      "text/html": [
       "<div>\n",
       "<style scoped>\n",
       "    .dataframe tbody tr th:only-of-type {\n",
       "        vertical-align: middle;\n",
       "    }\n",
       "\n",
       "    .dataframe tbody tr th {\n",
       "        vertical-align: top;\n",
       "    }\n",
       "\n",
       "    .dataframe thead th {\n",
       "        text-align: right;\n",
       "    }\n",
       "</style>\n",
       "<table border=\"1\" class=\"dataframe\">\n",
       "  <thead>\n",
       "    <tr style=\"text-align: right;\">\n",
       "      <th></th>\n",
       "      <th>artist</th>\n",
       "      <th>song_title</th>\n",
       "      <th>use</th>\n",
       "      <th>show</th>\n",
       "    </tr>\n",
       "  </thead>\n",
       "  <tbody>\n",
       "    <tr>\n",
       "      <th>0</th>\n",
       "      <td>Dusty Springfield</td>\n",
       "      <td>Girls It Ain't Easy</td>\n",
       "      <td>1:22A jackrabbit appears as Crystal gets up fr...</td>\n",
       "      <td>The Hunt12 Mar 20200</td>\n",
       "    </tr>\n",
       "    <tr>\n",
       "      <th>1</th>\n",
       "      <td>Dusty Springfield</td>\n",
       "      <td>Wishin' and Hopin'</td>\n",
       "      <td></td>\n",
       "      <td>Sex Education • S2E816 Jan 20200</td>\n",
       "    </tr>\n",
       "    <tr>\n",
       "      <th>2</th>\n",
       "      <td>Dusty Springfield</td>\n",
       "      <td>Spooky</td>\n",
       "      <td>0:23Maddie and Chimney run into Tara and Vince...</td>\n",
       "      <td>9-1-1 • S3E627 Oct 20190</td>\n",
       "    </tr>\n",
       "    <tr>\n",
       "      <th>3</th>\n",
       "      <td>Dusty Springfield</td>\n",
       "      <td>I Can't Make It Alone</td>\n",
       "      <td></td>\n",
       "      <td>The Deuce • S3E429 Sep 20190</td>\n",
       "    </tr>\n",
       "    <tr>\n",
       "      <th>4</th>\n",
       "      <td>Dusty Springfield</td>\n",
       "      <td>No Easy Way Down</td>\n",
       "      <td></td>\n",
       "      <td>The Deuce • S3E429 Sep 20190</td>\n",
       "    </tr>\n",
       "    <tr>\n",
       "      <th>...</th>\n",
       "      <td>...</td>\n",
       "      <td>...</td>\n",
       "      <td>...</td>\n",
       "      <td>...</td>\n",
       "    </tr>\n",
       "    <tr>\n",
       "      <th>212</th>\n",
       "      <td>Frank Sinatra</td>\n",
       "      <td>The Girl from Ipanema</td>\n",
       "      <td>Song plays at the reception and then again whe...</td>\n",
       "      <td>Friends • S2E2415 May 19960</td>\n",
       "    </tr>\n",
       "    <tr>\n",
       "      <th>213</th>\n",
       "      <td>Frank Sinatra</td>\n",
       "      <td>Strangers In the Night</td>\n",
       "      <td>Ross dances with Susan at the wedding.</td>\n",
       "      <td>Friends • S2E1117 Jan 19960</td>\n",
       "    </tr>\n",
       "    <tr>\n",
       "      <th>214</th>\n",
       "      <td>Frank Sinatra</td>\n",
       "      <td>Young at Heart</td>\n",
       "      <td></td>\n",
       "      <td>Dream A Little Dream29 Nov 19880</td>\n",
       "    </tr>\n",
       "    <tr>\n",
       "      <th>215</th>\n",
       "      <td>Frank Sinatra</td>\n",
       "      <td>It Had To Be You</td>\n",
       "      <td></td>\n",
       "      <td>When Harry Met Sally29 Nov 19881</td>\n",
       "    </tr>\n",
       "    <tr>\n",
       "      <th>216</th>\n",
       "      <td>Frank Sinatra</td>\n",
       "      <td>Theme from New York, New York</td>\n",
       "      <td>58:13Ted shows Jake Sam's panties.</td>\n",
       "      <td>Sixteen Candles3 May 19841</td>\n",
       "    </tr>\n",
       "  </tbody>\n",
       "</table>\n",
       "<p>217 rows × 4 columns</p>\n",
       "</div>"
      ],
      "text/plain": [
       "                artist                     song_title  \\\n",
       "0    Dusty Springfield            Girls It Ain't Easy   \n",
       "1    Dusty Springfield             Wishin' and Hopin'   \n",
       "2    Dusty Springfield                         Spooky   \n",
       "3    Dusty Springfield          I Can't Make It Alone   \n",
       "4    Dusty Springfield               No Easy Way Down   \n",
       "..                 ...                            ...   \n",
       "212      Frank Sinatra          The Girl from Ipanema   \n",
       "213      Frank Sinatra         Strangers In the Night   \n",
       "214      Frank Sinatra                 Young at Heart   \n",
       "215      Frank Sinatra               It Had To Be You   \n",
       "216      Frank Sinatra  Theme from New York, New York   \n",
       "\n",
       "                                                   use  \\\n",
       "0    1:22A jackrabbit appears as Crystal gets up fr...   \n",
       "1                                                        \n",
       "2    0:23Maddie and Chimney run into Tara and Vince...   \n",
       "3                                                        \n",
       "4                                                        \n",
       "..                                                 ...   \n",
       "212  Song plays at the reception and then again whe...   \n",
       "213             Ross dances with Susan at the wedding.   \n",
       "214                                                      \n",
       "215                                                      \n",
       "216                 58:13Ted shows Jake Sam's panties.   \n",
       "\n",
       "                                 show  \n",
       "0                The Hunt12 Mar 20200  \n",
       "1    Sex Education • S2E816 Jan 20200  \n",
       "2            9-1-1 • S3E627 Oct 20190  \n",
       "3        The Deuce • S3E429 Sep 20190  \n",
       "4        The Deuce • S3E429 Sep 20190  \n",
       "..                                ...  \n",
       "212       Friends • S2E2415 May 19960  \n",
       "213       Friends • S2E1117 Jan 19960  \n",
       "214  Dream A Little Dream29 Nov 19880  \n",
       "215  When Harry Met Sally29 Nov 19881  \n",
       "216        Sixteen Candles3 May 19841  \n",
       "\n",
       "[217 rows x 4 columns]"
      ]
     },
     "execution_count": 14,
     "metadata": {},
     "output_type": "execute_result"
    }
   ],
   "source": [
    "what_song"
   ]
  },
  {
   "cell_type": "code",
   "execution_count": null,
   "metadata": {},
   "outputs": [],
   "source": []
  }
 ],
 "metadata": {
  "kernelspec": {
   "display_name": "Python 3",
   "language": "python",
   "name": "python3"
  },
  "language_info": {
   "codemirror_mode": {
    "name": "ipython",
    "version": 3
   },
   "file_extension": ".py",
   "mimetype": "text/x-python",
   "name": "python",
   "nbconvert_exporter": "python",
   "pygments_lexer": "ipython3",
   "version": "3.7.6"
  }
 },
 "nbformat": 4,
 "nbformat_minor": 4
}
